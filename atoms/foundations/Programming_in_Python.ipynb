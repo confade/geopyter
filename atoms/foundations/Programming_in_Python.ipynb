{
 "cells": [
  {
   "cell_type": "markdown",
   "metadata": {},
   "source": [
    "# Programming in Python\n",
    "\n",
    "- Contributors: Michele Ferretti (https://github.com/miccferr); Jon Reades (https://github.com/jreades); James Millington (https://github.com/jamesdamillington)"
   ]
  },
  {
   "cell_type": "markdown",
   "metadata": {},
   "source": [
    "## Competing Computer Languages\n",
    "\n",
    "In these notebooks we will be using the Python programming language. As with human languages, there are _many_ [programming languages](http://www.computerhope.com/jargon/p/proglang.htm) in the world, each with their own advantages and disadvantages, and each with their own vocabulary (allowed words) and grammar (syntax). We use Python. "
   ]
  },
  {
   "cell_type": "markdown",
   "metadata": {},
   "source": [
    "### Python vs R\n",
    "\n",
    "Alongside Python, the other language that is often mentioned by people doing data-led research is [R](https://www.r-project.org). It's the _other_ one that many of your lecturers and a lot of other scientists use in a lot of their work.  There's [a great deal of debate about the relative merits of Python and R](https://www.quora.com/Which-is-better-for-data-analysis-R-or-Python), but for our purposes _both_ Python and R can help us to undertake geographical analysis. That is, in fact, the premise of this entire course! \n",
    "\n",
    "So why have we chosen to use Python here? Of the two languages, we think that Python has some specific advantages:\n",
    "\n",
    "1. It was designed for teaching, so its syntax is easier for a human to 'parse' than R's\n",
    "2. It is more _like_ other languages, so its more readily transferrable if you need to learn another language. Think of it as learning Italian, which also makes it easier to learn Spanish and French, instead of Icelandic (no offence Iceland, we love you too!).\n",
    "3. It is the one most-used as part of a _geographical workflow_ – what we mean by this is that you can find Python buried inside of ESRI's ArcGIS and the open-source QGIS applications, and it also sits behind (or talks to) a number of other tools that allow us to work flexibly and scalably with geo-data. \n",
    "4. Is is easier to operationalise – Python offers more services/tools to enable you to turn something from a 'hack' ([which doesn't mean what you think it means](https://en.wikipedia.org/wiki/Hacks_at_the_Massachusetts_Institute_of_Technology) into a 'service'.\n",
    "\n",
    "However, if you have been told R is the way to go then don't worry, the concepts covered here still translate. And many of the contributors to to these notebooks use both languages... it just depends on the problem. \n",
    "\n",
    "Right now, we are using Python version 2.7. You can also download a version 3 of Python -- we're sticking with the older version for the time being because there are more (geo) tools available to us in Python 2 than Python 3 but we _will_ be changing soon. So, for now, if at any point you are asked to choose between Python versions, make sure you pick 2.X (there will be a 2.8 and 2.9 eventually)."
   ]
  },
  {
   "cell_type": "markdown",
   "metadata": {},
   "source": [
    "### Python what?\n",
    "Python was invented by [Guido van Rossum](https://en.wikipedia.org/wiki/Guido_van_Rossum) in the late 1980s and he continues in the role of 'benevolent dictator' to this day, which means that he (and some other very smart people) try to to ensure that the language continues to meet the basic goals of:\n",
    "* Being very easy to read (syntax)\n",
    "* Using plain-English for many functions and operators (allowed words)\n",
    "* Has a comprehensive style guide: [PEP8](https://www.python.org/dev/peps/pep-0008/) (syntax)\n",
    "* Has no unnecessary special formatting characters (syntax _and_ allowed words)\n",
    "\n",
    "So while Python is not language that enables the computer to make calculations the fastest (C and C++ are faster), nor is it the safest (you wouldn't use it to fly a rocket to Mars), it _is_ a very readable, learnable and maintainable language.\n",
    "\n",
    "So if you want to learn to code, to do 'data science', or build a business, Python is a great choice.\n",
    "\n",
    "The points above are also made in [Python In A Nutshell](http://mbrochh.github.io/python-101/#/6/1) by [Martin Brochhaus](https://github.com/mbrochh) which you may find interesting and useful to accompany your learning of Python."
   ]
  },
  {
   "cell_type": "markdown",
   "metadata": {},
   "source": [
    "#### Three takes on Python\n",
    "The images below are links to three videos pitched in quite different ways at the advantages of Python, all of which touch on issues we'll be dealing with later... so watch the videos (even if they're a bit silly in places)!\n",
    "\n",
    "[![IMAGE ALT TEXT HERE](http://img.youtube.com/vi/aXKVOLwpDg8/0.jpg)](http://www.youtube.com/watch?v=aXKVOLwpDg8)\n",
    "\n",
    "[![IMAGE ALT TEXT HERE](http://img.youtube.com/vi/Hn4FbT4wMms/0.jpg)](http://www.youtube.com/watch?v=Hn4FbT4wMms)\n",
    "\n",
    "[![IMAGE ALT TEXT HERE](http://img.youtube.com/vi/G8brQdClo9s/0.jpg)](http://www.youtube.com/watch?v=G8brQdClo9s)"
   ]
  }
 ],
 "metadata": {
  "anaconda-cloud": {},
  "kernelspec": {
   "display_name": "Python 3",
   "language": "python",
   "name": "python3"
  },
  "language_info": {
   "codemirror_mode": {
    "name": "ipython",
    "version": 3
   },
   "file_extension": ".py",
   "mimetype": "text/x-python",
   "name": "python",
   "nbconvert_exporter": "python",
   "pygments_lexer": "ipython3",
   "version": "3.6.5"
  }
 },
 "nbformat": 4,
 "nbformat_minor": 2
}
