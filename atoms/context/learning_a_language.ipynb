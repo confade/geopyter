{
 "cells": [
  {
   "cell_type": "markdown",
   "metadata": {
    "geopyter": {
     "Contributors": "Jon Reades (https://github.com/jreades)",
     "git": {
      "active_branch": "master",
      "author.name": "Jon Reades",
      "authored_date": "2017-06-05 16:12:59",
      "committed_date": "2017-06-05 16:12:59",
      "committer.name": "Jon Reades",
      "sha": "2fce1fab4c3c28acabee493a24302e5ee1e8a1eb"
     }
    }
   },
   "source": [
    "# Learning a (New) Language\n",
    "\n",
    "- Contributors: Jon Reades (jon@reades.com); James Millington (jamesdamillington@gmail.com)\n"
   ]
  },
  {
   "cell_type": "markdown",
   "metadata": {
    "geopyter": {
     "Contributors": [
      "Michele Ferretti (https://github.com/miccferr)",
      "Jon Reades (https://github.com/jreades)",
      "James Millington (https://github.com/jamesdamillington)",
      "Michele Ferretti (https://github.com/miccferr)",
      "Jon Reades (https://github.com/jreades)",
      "James Millington (https://github.com/jamesdamillington)"
     ],
     "git": {
      "active_branch": "master",
      "author.name": "Jon Reades",
      "authored_date": "2017-06-05 16:12:59",
      "committed_date": "2017-06-05 16:12:59",
      "committer.name": "Jon Reades",
      "sha": "2fce1fab4c3c28acabee493a24302e5ee1e8a1eb"
     }
    }
   },
   "source": [
    "## Learning a (New) Language is Hard\n",
    "\n",
    "**_The single most important thing that you can learn is how to frame your problem in a way that you can communicate to a computer._** Crucially, the real power of the computer isn't figuring out how to tell it to add `1, 2, 3, 4` together and calculate the mean (average), it's figuring out how to tell it to add _any possible set of numbers_ together and work out the mean. It's when you start to see ways to do this for sets of _hard_ problems (for you) that you know you've started to understand the language. \n",
    "\n",
    "So these notebooks are intended to help you start learning a new language -- a programming language -- but you should always remember this: you're not stupid if you don't know how to explain things to the computer so that it can help you find the answer. You're learning the basics of how to communicate with computers; there are only two things that _are_ silly: the first is expecting to be able to run before you can walk; the second is copying and pasting answers without trying to understand _why_ they are answers.\n",
    "\n",
    "Actually, there is a third silly thing: not asking for help. In the same way that learning a new human language is easier if you immerse yourself in the culture and make friends with some native speakers, learning a new computer lanugage is easier if you immerse yourself in the culture of computing and make friends with some more proficient speakers. But just as your French- or Chinese-speaking friends will get tried of answering your questions if you don't make it obvious that you're working _hard_ to learn, most programmers won't be very impressed if you just ask for 'the answer' and then come back two days later with the _same question_."
   ]
  },
  {
   "cell_type": "markdown",
   "metadata": {
    "geopyter": {
     "Contributors": [
      "Michele Ferretti (https://github.com/miccferr)",
      "Jon Reades (https://github.com/jreades)",
      "James Millington (https://github.com/jamesdamillington)",
      "Michele Ferretti (https://github.com/miccferr)",
      "Jon Reades (https://github.com/jreades)",
      "James Millington (https://github.com/jamesdamillington)"
     ],
     "git": {
      "active_branch": "master",
      "author.name": "Jon Reades",
      "authored_date": "2017-06-05 16:12:59",
      "committed_date": "2017-06-05 16:12:59",
      "committer.name": "Jon Reades",
      "sha": "2fce1fab4c3c28acabee493a24302e5ee1e8a1eb"
     }
    }
   },
   "source": [
    "## Mathematics is a Language, so is Code\n",
    "\n",
    "There are obviously many ways that you can calculate the mean (also known as the _average_ if your maths is a little rusty): in your head, using pencil and paper, on a calculator, in Excel... and, of course, using code! For a small set of simple numbers, using your brain is going to be a lot faster than typing it into a calculator or computer.\n",
    "\n",
    "In the area immediately below this paragraph you should see something like \"<span style=\"color:blue\">In [ ]</span>\". On the right of this is an empty box into which you can type computer code (which we will call a 'code cell'). We can use Python like a calculator, but doing it from a keyboard instead of a calculator's keypad. \n",
    "\n",
    "For example, to calculate 2 plus 2 using Python type `2 + 2` in the code cell and run the code. \n",
    "\n",
    "_HINT_: To run ensure your cursor is in the code cell and click the the 'Run' button in the toolbar above (the sideways-pointing triangle). Or, again with the cursor in the code cell, you can also type Ctrl+Return on the keyboard (that's the Control button and the Return button simultaneously)."
   ]
  },
  {
   "cell_type": "code",
   "execution_count": null,
   "metadata": {},
   "outputs": [],
   "source": []
  },
  {
   "cell_type": "markdown",
   "metadata": {},
   "source": [
    "If everything has gone well then you should see something like \"<span style=\"color:red\">Out [ ]</span>\" appear with the answer to the formula `2 + 2`. Hopefully it is `4`!\n",
    "\n",
    "That was an easy one; faster to calculate in our head than use Python. \n",
    "\n",
    "_But quick_, what's the average (mean) of: `1 + 2 + 3 + 4`?\n",
    "\n",
    "A little harder, huh? So type your 'formula' to calculate the mean of `1, 2, 3, 4` then click the 'play' button on the tool bar at the top of the window to run your first piece of Python code! "
   ]
  },
  {
   "cell_type": "code",
   "execution_count": null,
   "metadata": {
    "geopyter": {
     "Contributors": [
      "Michele Ferretti (https://github.com/miccferr)",
      "Jon Reades (https://github.com/jreades)",
      "James Millington (https://github.com/jamesdamillington)",
      "Michele Ferretti (https://github.com/miccferr)",
      "Jon Reades (https://github.com/jreades)",
      "James Millington (https://github.com/jamesdamillington)"
     ],
     "git": {
      "active_branch": "master",
      "author.name": "Jon Reades",
      "authored_date": "2017-06-05 16:12:59",
      "committed_date": "2017-06-05 16:12:59",
      "committer.name": "Jon Reades",
      "sha": "2fce1fab4c3c28acabee493a24302e5ee1e8a1eb"
     }
    }
   },
   "outputs": [],
   "source": []
  },
  {
   "cell_type": "markdown",
   "metadata": {
    "geopyter": {
     "Contributors": [
      "Michele Ferretti (https://github.com/miccferr)",
      "Jon Reades (https://github.com/jreades)",
      "James Millington (https://github.com/jamesdamillington)",
      "Michele Ferretti (https://github.com/miccferr)",
      "Jon Reades (https://github.com/jreades)",
      "James Millington (https://github.com/jamesdamillington)"
     ],
     "git": {
      "active_branch": "master",
      "author.name": "Jon Reades",
      "authored_date": "2017-06-05 16:12:59",
      "committed_date": "2017-06-05 16:12:59",
      "committer.name": "Jon Reades",
      "sha": "2fce1fab4c3c28acabee493a24302e5ee1e8a1eb"
     }
    }
   },
   "source": [
    "_HINT_: Your equation should include the four numbers above with some `+` symbols and `(` and `)`, a `/` symbol, and another number.\n",
    "\n",
    "Did you get 2 or 2.5? \n",
    "\n",
    "_HINT_: If you are totally at a loss for what to type in the code cell, the answer it the bottom of this notebook. \n",
    "\n",
    "Even if you typed the equation in correctly, you may not have obtained the 'correct' answer (in Python2 the result of `(1+2+3+4)/4` is `2`, whereas in Python3 the result is `2.5`). If you got the 'right' answer (`2.5`) then pat yourself on the back, but be warned that that was mostly luck because Python3 is trying to be helpful. If you got the 'wrong' answer that does **_not_** mean that you have done something wrong: computers do exactly what you tell them to do, and many of the problems you'll encounter in Code Camp and beyond are a result of the computer mindlessly and stupidly doing exactly what you told it to do, and not what you _meant_ for it to do!\n",
    "\n",
    "Or as one wag once put it:\n",
    "\n",
    "> Computers are tools for making very fast, accurate mistakes."
   ]
  },
  {
   "cell_type": "markdown",
   "metadata": {
    "geopyter": {
     "Contributors": [
      "Michele Ferretti (https://github.com/miccferr)",
      "Jon Reades (https://github.com/jreades)",
      "James Millington (https://github.com/jamesdamillington)",
      "Michele Ferretti (https://github.com/miccferr)",
      "Jon Reades (https://github.com/jreades)",
      "James Millington (https://github.com/jamesdamillington)"
     ],
     "git": {
      "active_branch": "master",
      "author.name": "Jon Reades",
      "authored_date": "2017-06-05 16:12:59",
      "committed_date": "2017-06-05 16:12:59",
      "committer.name": "Jon Reades",
      "sha": "2fce1fab4c3c28acabee493a24302e5ee1e8a1eb"
     }
    }
   },
   "source": [
    "### When computers beat brains (or calculators)\n",
    "\n",
    "What makes a computer potentially _better_ than a calculator (or your brain) is that a computer isn't daunted by having to count lots of numbers and it doesn't need you to input each number individually! The computer can also do things like: \n",
    "\n",
    "- find out the amount of rain that fell in London, Manchester, and Edinburgh yesterday from an online weather service;\n",
    "- work out the average rainfall for these three cities; and then \n",
    "- work out the standard deviation for rainfall.\n",
    "\n",
    "And it can do all of this in a matter of milliseconds! It can also do the same for 3,000 cities just as eaisly; sure, it'll take a little bit longer, but it's the _same basic code_. \n",
    "\n",
    "In other words code is [scalable](https://en.wikipedia.org/wiki/Scalability) in a way that brains and calculators are not and that is a crucial difference.\n",
    "\n",
    "Here's a trivial example of when computers start to get better and faster than brains:"
   ]
  },
  {
   "cell_type": "code",
   "execution_count": null,
   "metadata": {
    "geopyter": {
     "Contributors": [
      "Michele Ferretti (https://github.com/miccferr)",
      "Jon Reades (https://github.com/jreades)",
      "James Millington (https://github.com/jamesdamillington)",
      "Michele Ferretti (https://github.com/miccferr)",
      "Jon Reades (https://github.com/jreades)",
      "James Millington (https://github.com/jamesdamillington)"
     ],
     "git": {
      "active_branch": "master",
      "author.name": "Jon Reades",
      "authored_date": "2017-06-05 16:12:59",
      "committed_date": "2017-06-05 16:12:59",
      "committer.name": "Jon Reades",
      "sha": "2fce1fab4c3c28acabee493a24302e5ee1e8a1eb"
     }
    }
   },
   "outputs": [],
   "source": [
    "(23495.23 + 9238832.657 + 2 + 12921)/4"
   ]
  },
  {
   "cell_type": "markdown",
   "metadata": {},
   "source": [
    "_Remember_: click in the cell and then hit `Ctrl+Enter` to 'run' the cell and get the answer."
   ]
  },
  {
   "cell_type": "markdown",
   "metadata": {
    "geopyter": {
     "Contributors": [
      "Michele Ferretti (https://github.com/miccferr)",
      "Jon Reades (https://github.com/jreades)",
      "James Millington (https://github.com/jamesdamillington)",
      "Michele Ferretti (https://github.com/miccferr)",
      "Jon Reades (https://github.com/jreades)",
      "James Millington (https://github.com/jamesdamillington)"
     ],
     "git": {
      "active_branch": "master",
      "author.name": "Jon Reades",
      "authored_date": "2017-06-05 16:12:59",
      "committed_date": "2017-06-05 16:12:59",
      "committer.name": "Jon Reades",
      "sha": "2fce1fab4c3c28acabee493a24302e5ee1e8a1eb"
     }
    }
   },
   "source": [
    "## Silly is not stupid (learning languages is hard)\n",
    "\n",
    "This is really important: just because you told the computer to do something that you eventually realise was 'wrong' (you may even feel silly) **does _not_ mean that _you_ are stupid**. \n",
    "\n",
    "Did you ever try to learn a foreign language? Did you expect to be fluent after a couple of classes? Did you [accidentally tell your host that you were 'pregnant' when you were just 'embarrassed'](https://translate.google.com/#es/en/embarazada)? Assuming that you had a realistic expectation of how far you'd get with French, Chinese, or English in your first couple of years, then you probably figured it'd be a _while_ before you could hold a conversation with someone else. \n",
    "\n",
    "So why would you expect to sit down at a computer and be able to hold a conversation with it (which is another way of thinking about what coding is) after reading a few pages of text and watching a YouTube video or two? You will need to give it time, you will need to get used to looking at the documentation, you will need to ask for help (this seems like a good time to introduce [Stack Overflow](http://stackoverflow.com/)), and you will need to persevere."
   ]
  },
  {
   "cell_type": "markdown",
   "metadata": {
    "geopyter": {
     "Contributors": [
      "Michele Ferretti (https://github.com/miccferr)",
      "Jon Reades (https://github.com/jreades)",
      "James Millington (https://github.com/jamesdamillington)",
      "Michele Ferretti (https://github.com/miccferr)",
      "Jon Reades (https://github.com/jreades)",
      "James Millington (https://github.com/jamesdamillington)"
     ],
     "git": {
      "active_branch": "master",
      "author.name": "Jon Reades",
      "authored_date": "2017-06-05 16:12:59",
      "committed_date": "2017-06-05 16:12:59",
      "committer.name": "Jon Reades",
      "sha": "2fce1fab4c3c28acabee493a24302e5ee1e8a1eb"
     }
    }
   },
   "source": [
    "## Practice makes perfect\n",
    "\n",
    "Your language class (assuming that you took one) probably had a 'lab' where you practiced your new language and you probably made a lot of mistakes when you were getting started. It's the same for programming: the reason you got a 'silly' answer is that we haven't taught you how to ask the right question yet! For a language like Python \"`4`\" is not always the same as \"`4.0`\"... and sometimes the way ahead is unclear, but don't worry if you can't get the right answer _yet_, how to 'talk numbers' is the main topic in the _next_ notebook and we'll show you the answer at the end of this notebook.\n",
    "\n",
    "So, we want you to remember that there are no stupid questions when it comes to programming. We have _all_ been lost at one point or another! Your lecturers and instructors _frequently_ still ask for help (often by asking Google!), it's just that we do it for harder questions. And that's only because we have had a lot more practice in the language of programming. So the _only_ silly thing you can do in this course is to assume that you can speed through the questions and don't have to practice or think through the technical aspects of coding. \n",
    "\n",
    "We'll say it _again_: there's _one_ other silly thing that you can do, and that's not ask for help at all. If you've been banging your head against the computer for five or ten minutes trying to get something to work and it _just isn't working_ then try explaining it to a friend or to the instructor! Depending on the question we might: give you the answer and explain why it's the answer; give you a really annoying _partial_ answer because it's something that we want you to figure out for yourself; or say \"That's a really tough question, we'll have to look up the answer\". You never know until you ask.\n",
    "\n",
    "<img align=\"center\" src=\"https://imgs.xkcd.com/comics/tasks.png\" width=\"300\" />\n",
    "\n",
    "There are web sites that will give you answers (in fact, we're going to point you to some of them) but if you don't expend any effort in trying to understand how the code works, or if you just copy the answer off of your friend, that's the same as assuming you'll learn a foreign language just because you're setting next to a friend who is taking the same language course! _That_ is also silly.\n",
    "\n",
    "<span style=\"color:red;font-weight:bold;font-size:18pt;line-height: 24pt\">You will need to practice in order to progress. You don't learn French or Chinese by practicing in the language lab once a week. You won't learn to program a computer by only practicing during the practicals once a week.</span>"
   ]
  },
  {
   "cell_type": "markdown",
   "metadata": {},
   "source": [
    "## The Answer\n",
    "\n",
    "There was only one coding question in this notebook so there is only one answer:"
   ]
  },
  {
   "cell_type": "code",
   "execution_count": null,
   "metadata": {},
   "outputs": [],
   "source": [
    "(1 + 2 + 3 + 4) / 4 "
   ]
  },
  {
   "cell_type": "markdown",
   "metadata": {},
   "source": [
    "If you are using Python version 3 (which you _should_ be), you should have got the result `2.5`\n",
    "\n",
    "If you got the result `2`, you are using Python version 2 and will need to check (and change) your installation of Python (go back to the [Python Setup page](https://kingsgeocomputation.org/teaching/code-camp/code-camp-python/setup/), or try posting a query on Slack for help).  "
   ]
  }
 ],
 "metadata": {
  "anaconda-cloud": {},
  "geopyter": {
   "Contributors": [
    "Michele Ferretti (https://github.com/miccferr)",
    "Jon Reades (https://github.com/jreades)",
    "James Millington (https://github.com/jamesdamillington)"
   ],
   "git": {
    "active_branch": "master",
    "author.name": "Jon Reades",
    "authored_date": "2017-06-05 16:12:59",
    "committed_date": "2017-06-05 16:12:59",
    "committer.name": "Jon Reades",
    "sha": "2fce1fab4c3c28acabee493a24302e5ee1e8a1eb"
   },
   "libs": {}
  },
  "kernelspec": {
   "display_name": "Python 3",
   "language": "python",
   "name": "python3"
  },
  "language_info": {
   "codemirror_mode": {
    "name": "ipython",
    "version": 3
   },
   "file_extension": ".py",
   "mimetype": "text/x-python",
   "name": "python",
   "nbconvert_exporter": "python",
   "pygments_lexer": "ipython3",
   "version": "3.6.5"
  }
 },
 "nbformat": 4,
 "nbformat_minor": 2
}
