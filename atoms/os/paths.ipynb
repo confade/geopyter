{
 "cells": [
  {
   "cell_type": "markdown",
   "metadata": {
    "geopyter": {
     "Contributors": [
      "Michele Ferretti (https://github.com/miccferr)",
      "Jon Reades (https://github.com/jreades)",
      "James Millington (https://github.com/jamesdamillington)",
      "Jon Reades (https://github.com/jreades)"
     ],
     "git": {
      "active_branch": "master",
      "author.name": "Jon Reades",
      "authored_date": "2017-06-05 16:12:59",
      "committed_date": "2017-06-05 16:12:59",
      "committer.name": "Jon Reades",
      "sha": "2fce1fab4c3c28acabee493a24302e5ee1e8a1eb"
     }
    }
   },
   "source": [
    "# Paths\n",
    "\n",
    "- Contributors: Michele Ferretti (mic.ferretti@gmail.com); Jon Reades (jon@reades.com); James Millington (jamesdamillington@gmail.com)"
   ]
  },
  {
   "cell_type": "markdown",
   "metadata": {},
   "source": [
    "## Working Without Buttons\n",
    "\n",
    "When you use an app on your mobile phone or on your computer it will often save your files somewhere convenient so that you can find them again, but this isn't magic: a programmer made a choice about how to do this for you, and now that you're learning to program _you_ have to make that choice.\n",
    "\n",
    "So at _some_ point you will need to learn how to read/write data from elsewhere on the computer or the Internet. At that point, for anyone who learned to use a computer after about 1992, computers can seem very unfriendly indeed! That's because when you are programming you will need to give the computer a lot more information about how to find, read, and write data. "
   ]
  },
  {
   "cell_type": "markdown",
   "metadata": {},
   "source": [
    "## Working with Paths\n",
    "\n",
    "Have you ever thought about how and where files are stored on your computer? Probably not, unless you were very, very bored. Unfortunately, when you start programming you *do* need to learn a bit more about this -- enough, at least, to tell Python where to find the file that you want it to read... though you can do much more than that!\n",
    "\n",
    "A few starting principles:\n",
    "\n",
    "1. Directories (a.k.a. folders) and files all have a unique location _somewhere_ on your hard drive.\n",
    "\n",
    "2. A directory (or folder) can contain other directories and files. \n",
    "\n",
    "3. A file cannot contain a directory. *[OK, **some** types of files -- such as a Zip archive -- can contain a folder.]*\n",
    "\n",
    "4. The directory that sits at the 'top' of your hard drive (_i.e._ the _one_ directory that is not _in_ another directory) is known as the **root directory**.\n",
    "\n",
    "5. A file must be stored in a directory (there are no root files).\n",
    "\n",
    "6. The directory in which _your_ settings and documents are saved (_i.e._ the stuff associated with your _username_) is known as the **home directory**."
   ]
  },
  {
   "cell_type": "markdown",
   "metadata": {},
   "source": [
    "### Paths in Python\n",
    "\n",
    "Below is a 'code block' that will run some Python code. It's not important that you understand *all* of what is happening, but there are two very important things to know:\n",
    "\n",
    "1. To 'run' a code block, you can either click inside the code block with your mouse and then hit the two-key combination: `Ctrl+Enter` (that's holding down the 'Control' key and then hitting the 'Return' key!)\n",
    "\n",
    "2. Pay attention to the lines in green that start with a \\#, as that is a 'comment' that tells you what is going on. Comments are good practice for programming as they give us a way to explain code 'inline'.\n",
    "\n",
    "Let's try this!"
   ]
  },
  {
   "cell_type": "code",
   "execution_count": 16,
   "metadata": {},
   "outputs": [
    {
     "name": "stdout",
     "output_type": "stream",
     "text": [
      "I am running in the directory...\n",
      "/Users/jreades/Documents/github/geopyter/atoms/os\n",
      "\n",
      "The home directory is...\n",
      "/Users/jreades\n",
      "\n",
      "The home directory was last modified at...\n",
      "Tuesday 25 September 2018 at 05:38 AM BST\n",
      "\n"
     ]
    }
   ],
   "source": [
    "# Import a useful library written by someone else\n",
    "import os\n",
    "import time\n",
    "\n",
    "# The Current Working Directory (cwd)\n",
    "print(\"I am running in the directory...\")\n",
    "print(os.getcwd())\n",
    "print(\"\")\n",
    "\n",
    "# The Home Directory (~)\n",
    "print(\"The home directory is...\")\n",
    "print(os.path.expanduser(\"~\"))\n",
    "print(\"\")\n",
    "\n",
    "# Late Modification Time (mtime)\n",
    "print(\"The home directory was last modified at...\")\n",
    "print(time.strftime('%A %d %B %Y at %I:%S %p %Z',time.localtime(os.path.getmtime(os.path.expanduser(\"~\")))))\n",
    "print(\"\")"
   ]
  },
  {
   "cell_type": "markdown",
   "metadata": {},
   "source": [
    "That last example was intended to be hard to puzzle out. Yes, it's difficult to read, but think for a minute about what the code has just done: Python has taken a directory (your home directory) and asked the computer to tell it when this directory was *last modified*; using this, it then generated a human-readable output indicating the day of the week, date, time, AM/PM and timezone of that modification. "
   ]
  },
  {
   "cell_type": "markdown",
   "metadata": {},
   "source": [
    "#### A Small Challenge\n",
    "\n",
    "Using [the documentation](https://docs.python.org/3/library/time.html#time.strftime) see if you can figure out how to change the full weekday name to the abbreviated weekday name! You will need to learn how to use the documentation eventually, so why not start now?\n",
    "\n",
    "Here's a clue: you need to change exactly *one* letter in this line of code and will be somehwere in the first block of code marked in *red*:"
   ]
  },
  {
   "cell_type": "code",
   "execution_count": 17,
   "metadata": {},
   "outputs": [
    {
     "name": "stdout",
     "output_type": "stream",
     "text": [
      "Tuesday 25 September 2018 at 05:38 AM BST\n"
     ]
    }
   ],
   "source": [
    "print(time.strftime('%A %d %B %Y at %I:%S %p %Z',time.localtime(os.path.getmtime(os.path.expanduser(\"~\")))))"
   ]
  },
  {
   "cell_type": "markdown",
   "metadata": {},
   "source": [
    "## Why Paths Matter\n",
    "\n",
    "You need to think of all code as running at a 'location' on your computer: in other words, when you want to read or write data you also need to know where you 'are' (i.e. where your code is running) or you could end up being unable to find your work or, worse, overwriting something **really important** on your computer. \n",
    "\n",
    "As the end of the day, using paths to move around your computer using code is the same as using the Finder (or Windows Explorer) to move around your computer! In programming parlance, you to move 'down' into sub-folders or 'up' into parent directories to see what's available at that 'level' of the drive. \n",
    "\n",
    "For people who are used to just saving a document pretty much anywhere on their computer (or iPad or iPhone) and having it accessible via Spotlight/Search functions this can take a _lot_ of getting used to, but remember that in learning to program we're gradually stripping away the bells and whistles that sit between you and what the computer's actually doing. \n",
    "\n",
    "Here's some code to find photos saved in your home directory:"
   ]
  },
  {
   "cell_type": "code",
   "execution_count": 54,
   "metadata": {},
   "outputs": [
    {
     "name": "stdout",
     "output_type": "stream",
     "text": [
      "Match: DSC01469.jpg\n",
      "Match: city.jpg\n",
      "Match: IMG_5899.jpg\n",
      "Match: IMG_5907.jpg\n",
      "Match: IMG_5898.jpg\n",
      "Match: IMG_5904.jpg\n",
      "Match: IMG_5910.jpg\n",
      "Match: IMG_5901.jpg\n",
      "Match: IMG_5903.jpg\n",
      "Match: ad2944f6-bdc3-4787-9866-86d1a62bf75e.jpg\n",
      "Match: af0d8ec2-ed33-4db2-8ef1-04d101cb0e60.jpg\n",
      "Match: Geo-ML Historical Climat and Weather.jpg\n",
      "Match: emptyname 88.jpg\n",
      "Match: 24af6e1d-2583-4932-b708-dcdf49e0b5c9.jpg\n",
      "Match: 27b43af6-ed5d-4129-958e-c0d2acb67291.jpg\n",
      "Match: 8D3D0277-7130-4329-AE0E-612F7B341414.jpg\n",
      "Match: A32A1301-E5A5-4371-A69D-75B5D4C6F9D9.jpg\n",
      "Match: d0fb07b0-6c5f-4418-a6b6-0bc4cf9f3fed.jpg\n",
      "Match: 0495b2bd-afd5-46fd-acad-f78e4126c7aa.jpg\n"
     ]
    }
   ],
   "source": [
    "# A useful library of code\n",
    "import os\n",
    "\n",
    "# Some variables to count the number of images found\n",
    "max_matches = 20\n",
    "cur_matches = 0\n",
    "\n",
    "# The code\n",
    "exclude = set(['Cache','Library','Music'])\n",
    "for (dirpath, dirnames, filenames) in os.walk(os.path.expanduser('~'), topdown=True):\n",
    "    dirnames[:] = set(dirnames) - exclude\n",
    "    dirnames[:] = [d for d in dirnames if not d.startswith('.')]\n",
    "    \n",
    "    for f in filenames:\n",
    "        if f.endswith(\".jpg\"):\n",
    "            \n",
    "            cur_matches += 1\n",
    "    \n",
    "            if cur_matches < max_matches:\n",
    "                print(\"Match: \" + f)\n",
    "            else:\n",
    "                break"
   ]
  },
  {
   "cell_type": "markdown",
   "metadata": {},
   "source": [
    "### Special Paths\n",
    "\n",
    "Finally, there are a few 'special' paths that you need to know about when using the Terminal or Python:\n",
    "\n",
    "- `/` is the **root directory** (so `cd /` would take you to the 'root' of the hard drive)\n",
    "- `~` is the **home directory** (this is a shortcut: it's the same as typing `cd /Users/myusername/`)\n",
    "- `.` means the **current directory** (this is avoid ambiguity: `cd ./myusername/Documents` would assume that in the current directory there is a sub-directory called `Documents` under `myusername`)\n",
    "- `..` means the **next directory up** (this is so that you don't have to type out `cd /Users/myusername/Settings` just to go from `Documents` 'over' to `Settings`; instead, you can use `cd ../Settings/`.\n",
    "\n",
    "In terms of terminology: any path that starts with a `/` is an _**absolute path**_ because we are starting from the _**root**_ directory; any path that starts with either `..` or `.` is a _**relative path**_ because it is starting from the _**current**_ directory and is relative to where the Terminal or program 'is' now.\n",
    "\n",
    "### Windows vs Everyone Else\n",
    "\n",
    "For historical reasons, Windows has long been just a bit different from Unix/Linux/Mac in how paths are specified: on Windows it has long been the case that the path separator was `\\`, not `/` (`:` also isn't allowed in file name on a Mac for historical reasons)!\n",
    "\n",
    "So the following Unix/Mac path: `/Users/myusername/Documents/`\n",
    "\n",
    "On a Windows machine would usually be: `\\Users\\myusername\\Documents\\`\n",
    "\n",
    "If you remember that on a Unix/Mac we use `\\` to manage things like spaces in a directory name then you can see how it gets pretty confusing and complicated pretty quickly when you start to program... But in Python we can cope with _both_ of these situations and others using the `os` library (short for 'operating system'); see the examples below!\n",
    "\n",
    "**Remember**: to turn code you need click in the code block below and then either type `Ctrl+Enter` or hit the 'Run' button on the menu bar above."
   ]
  },
  {
   "cell_type": "code",
   "execution_count": null,
   "metadata": {},
   "outputs": [],
   "source": [
    "import os\n",
    "# Create a path by joining together the input arguments\n",
    "print(os.path.join('Users','myusername','Documents'))\n",
    "print(\" \")\n",
    "# Create an absolute path (starts with '/') and file names that contain spaces (we don't need to worry about spaces)\n",
    "print(os.path.join('/','Users','myusername','Documents','My Work','Code Camp'))\n",
    "print(\" \")\n",
    "# Create a relative path (starts with '..') and file names that contain spaces (we don't need to worry about spaces)\n",
    "print(os.path.join('..','Documents','My Work','Code Camp'))\n",
    "print(\" \")\n",
    "# 'Expand' the current user's home directory (~) into an absolute path\n",
    "print(os.path.expanduser(\"~\"))\n",
    "print(\" \")\n",
    "# 'Expand' the current directory path (.) into an absolute path\n",
    "print(os.path.abspath('.'))\n",
    "print(\" \")"
   ]
  }
 ],
 "metadata": {
  "anaconda-cloud": {},
  "geopyter": {
   "Contributors": [
    "Michele Ferretti (https://github.com/miccferr)",
    "Jon Reades (https://github.com/jreades)",
    "James Millington (https://github.com/jamesdamillington)"
   ],
   "git": {
    "active_branch": "master",
    "author.name": "Jon Reades",
    "authored_date": "2017-06-05 16:12:59",
    "committed_date": "2017-06-05 16:12:59",
    "committer.name": "Jon Reades",
    "sha": "2fce1fab4c3c28acabee493a24302e5ee1e8a1eb"
   },
   "libs": {}
  },
  "kernelspec": {
   "display_name": "Python 3",
   "language": "python",
   "name": "python3"
  },
  "language_info": {
   "codemirror_mode": {
    "name": "ipython",
    "version": 3
   },
   "file_extension": ".py",
   "mimetype": "text/x-python",
   "name": "python",
   "nbconvert_exporter": "python",
   "pygments_lexer": "ipython3",
   "version": "3.6.5"
  }
 },
 "nbformat": 4,
 "nbformat_minor": 2
}
