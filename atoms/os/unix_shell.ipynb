{
 "cells": [
  {
   "cell_type": "markdown",
   "metadata": {
    "geopyter": {
     "Contributors": [
      "Michele Ferretti (https://github.com/miccferr)",
      "Jon Reades (https://github.com/jreades)",
      "James Millington (https://github.com/jamesdamillington)",
      "Jon Reades (https://github.com/jreades)"
     ],
     "git": {
      "active_branch": "master",
      "author.name": "Jon Reades",
      "authored_date": "2017-06-05 16:12:59",
      "committed_date": "2017-06-05 16:12:59",
      "committer.name": "Jon Reades",
      "sha": "2fce1fab4c3c28acabee493a24302e5ee1e8a1eb"
     }
    }
   },
   "source": [
    "# The Terminal\n",
    "\n",
    "- Contributors: Jon Reades (jon@reades.com)"
   ]
  },
  {
   "cell_type": "markdown",
   "metadata": {},
   "source": [
    "## Working Without Buttons\n",
    "\n",
    "Eventually, you will need to understand how to use your computer's Terminal. Without going into the gory details, the Terminal allows you to do a lot of things using only the keyboard: install applications or libraries, download files, list directories, configure scripts, etc., etc. Being able to use the Terminal will also help you to understand what Python is doing as well, so it will also help you to *debug* problems in your code more easily. We *could* write our own introduction to the Terminal, but we think we're better off standing on the shoulders of giants (clicking the image will take you to: http://swcarpentry.github.io/shell-novice/):"
   ]
  },
  {
   "cell_type": "markdown",
   "metadata": {},
   "source": [
    "[![Link to Software Carpentry Web Site](./img/Software_Carpentry.png)](http://swcarpentry.github.io/shell-novice/)"
   ]
  },
  {
   "cell_type": "markdown",
   "metadata": {},
   "source": [
    "## Remembering Shell Commands\n",
    "\n",
    "It's been said that [one of the virtues of programmers is laziness](https://blog.teamtreehouse.com/the-programmers-virtues), and understanding this laziness is the key to understanding why most programming commands can look like the result of monkeys hitting keys at random. In fact, laziness is critical to being able to write code without constantly having to check Google. \n",
    "\n",
    "Here are some shell commands and what they do:\n",
    "\n",
    "| Command | Short For... | What It Does |\n",
    "|-------- |------------- |------------- |\n",
    "| ls | list | List the contents of the directory I'm about to give you ('`ls ~`' lists the contents of your home directory; '`ls ..`' lists the contents of the parent directory; etc.) |\n",
    "| cd | change directory | Move to the path I'm about to give you ('`cd ~`' moves you to your home directory; '`cd ..`' moves you to the parent directory; etc.) | \n",
    "| pwd | print working directory | Show the path of the current current directory (_i.e._ where am I now?) |\n",
    "| head | Get the head of a file | Print the first few lines of the specified file (_e.g._ `head somefile.csv`) |\n",
    "| tail | Get the tail of a file | Print the last few lines of the specified file (_e.g._ `tail -n 2 somefile.csv`) |\n",
    "| clear | Clear the Terminal | When the Terminal looks really busy with old output that you don't need any more just type `clear` |\n",
    "| exit | Exit the Terminal | To close an open Terminal window |\n",
    "| mv | Move a directory or file | Like dragging things in the Finder window (_e.g._ `mv somefile.csv ../another_dir/` to move the file `somefile.csv` _over_ to a directory named `another_dir` that is accessible from the parent directory of this one) |\n",
    "| cp | Copy a directory or file | Like dragging things in the Finder window (_e.g._ `cp somefile.csv ../another_dir/` to make a copy of the file `somefile.csv` in a directory named `another_dir` that is accessible from the parent directory of this one) |\n",
    "\n",
    "You can see how all of these commands are basically abbreviations/mnemonics that make it easy for programmers to be lazy, but productive: less time typing == more time thinking/doing."
   ]
  }
 ],
 "metadata": {
  "anaconda-cloud": {},
  "geopyter": {
   "Contributors": [
    "Michele Ferretti (https://github.com/miccferr)",
    "Jon Reades (https://github.com/jreades)",
    "James Millington (https://github.com/jamesdamillington)"
   ],
   "git": {
    "active_branch": "master",
    "author.name": "Jon Reades",
    "authored_date": "2017-06-05 16:12:59",
    "committed_date": "2017-06-05 16:12:59",
    "committer.name": "Jon Reades",
    "sha": "2fce1fab4c3c28acabee493a24302e5ee1e8a1eb"
   },
   "libs": {}
  },
  "kernelspec": {
   "display_name": "Python 3",
   "language": "python",
   "name": "python3"
  },
  "language_info": {
   "codemirror_mode": {
    "name": "ipython",
    "version": 3
   },
   "file_extension": ".py",
   "mimetype": "text/x-python",
   "name": "python",
   "nbconvert_exporter": "python",
   "pygments_lexer": "ipython3",
   "version": "3.6.5"
  }
 },
 "nbformat": 4,
 "nbformat_minor": 2
}
