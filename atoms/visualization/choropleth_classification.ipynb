{
 "cells": [
  {
   "cell_type": "markdown",
   "metadata": {},
   "source": [
    "# Classification for Choropleth Mapping\n",
    "\n",
    "- Level: Novice\n",
    "- Duration: 2 hours\n",
    "- Contributors: Serge Rey (srey@asu.edu); Jon Reades (jonathan.reades@kcl.ac.uk)\n",
    "- Keywords: choropleth; mapping; visualization; pysal; classifiers"
   ]
  },
  {
   "cell_type": "markdown",
   "metadata": {
    "collapsed": true
   },
   "source": [
    "## Introduction\n",
    "\n",
    "* what is classification\n",
    "* role in choropleth mapping\n",
    "* explore classification using PySAL"
   ]
  },
  {
   "cell_type": "code",
   "execution_count": 3,
   "metadata": {},
   "outputs": [],
   "source": [
    "import pysal.lib as ps"
   ]
  },
  {
   "cell_type": "markdown",
   "metadata": {},
   "source": [
    "## Data Set: Mexico State Gross Domestic Product"
   ]
  },
  {
   "cell_type": "code",
   "execution_count": 4,
   "metadata": {},
   "outputs": [
    {
     "data": {
      "text/plain": [
       "['south',\n",
       " 'wmat',\n",
       " 'stl',\n",
       " 'taz',\n",
       " 'tokyo',\n",
       " 'georgia',\n",
       " 'nyc_bikes',\n",
       " 'calemp',\n",
       " 'snow_maps',\n",
       " '__pycache__',\n",
       " 'tests',\n",
       " 'networks',\n",
       " '10740',\n",
       " 'guerry',\n",
       " 'Polygon',\n",
       " 'nat',\n",
       " 'book',\n",
       " 'desmith',\n",
       " 'virginia',\n",
       " 'chicago',\n",
       " 'berlin',\n",
       " 'street_net_pts',\n",
       " 'burkitt',\n",
       " 'Polygon_Holes',\n",
       " 'columbus',\n",
       " 'mexico',\n",
       " 'newHaven',\n",
       " '__pycache__',\n",
       " 'baltim',\n",
       " 'Point',\n",
       " 'clearwater',\n",
       " 'arcgis',\n",
       " '__pycache__',\n",
       " 'sacramento2',\n",
       " 'Line',\n",
       " 'juvenile',\n",
       " 'us_income',\n",
       " 'geodanet',\n",
       " 'sids2',\n",
       " 'rio_grande_do_sul']"
      ]
     },
     "execution_count": 4,
     "metadata": {},
     "output_type": "execute_result"
    }
   ],
   "source": [
    "ps.examples.available()"
   ]
  },
  {
   "cell_type": "code",
   "execution_count": 5,
   "metadata": {},
   "outputs": [
    {
     "data": {
      "text/plain": [
       "{'name': 'mexico',\n",
       " 'description': 'Decennial per capita incomes of Mexican states 1940-2000',\n",
       " 'explanation': ['* mexico.csv: attribute data. (n=32, k=13)',\n",
       "  '* mexico.gal: spatial weights in GAL format.',\n",
       "  '* mexicojoin.shp: Polygon shapefile. (n=32)',\n",
       "  'Data used in Rey, S.J. and M.L. Sastre Gutierrez. (2010) \"Interregional inequality dynamics in Mexico.\" Spatial Economic Analysis, 5: 277-298.']}"
      ]
     },
     "execution_count": 5,
     "metadata": {},
     "output_type": "execute_result"
    }
   ],
   "source": [
    "ps.examples.explain('mexico')"
   ]
  },
  {
   "cell_type": "code",
   "execution_count": 7,
   "metadata": {},
   "outputs": [
    {
     "data": {
      "text/plain": [
       "['State',\n",
       " 'pcgdp1940',\n",
       " 'pcgdp1950',\n",
       " 'pcgdp1960',\n",
       " 'pcgdp1970',\n",
       " 'pcgdp1980',\n",
       " 'pcgdp1990',\n",
       " 'pcgdp2000',\n",
       " 'hanson03',\n",
       " 'hanson98',\n",
       " 'esquivel99',\n",
       " 'inegi',\n",
       " 'inegi2']"
      ]
     },
     "execution_count": 7,
     "metadata": {},
     "output_type": "execute_result"
    }
   ],
   "source": [
    "f = ps.io.open(ps.examples.get_path('mexico.csv'))\n",
    "f.header"
   ]
  },
  {
   "cell_type": "code",
   "execution_count": 8,
   "metadata": {},
   "outputs": [],
   "source": [
    "y = f.by_col_array('pcgdp2000')"
   ]
  },
  {
   "cell_type": "code",
   "execution_count": 9,
   "metadata": {},
   "outputs": [
    {
     "data": {
      "text/plain": [
       "array([[27782.],\n",
       "       [29855.],\n",
       "       [26103.],\n",
       "       [36163.],\n",
       "       [ 8684.],\n",
       "       [30735.],\n",
       "       [28460.],\n",
       "       [21358.],\n",
       "       [54349.],\n",
       "       [17379.],\n",
       "       [15585.],\n",
       "       [11820.],\n",
       "       [12348.],\n",
       "       [21610.],\n",
       "       [16322.],\n",
       "       [11838.],\n",
       "       [18170.],\n",
       "       [11478.],\n",
       "       [38672.],\n",
       "       [ 9010.],\n",
       "       [15685.],\n",
       "       [26149.],\n",
       "       [33442.],\n",
       "       [15866.],\n",
       "       [15242.],\n",
       "       [24068.],\n",
       "       [13360.],\n",
       "       [23546.],\n",
       "       [11701.],\n",
       "       [12191.],\n",
       "       [17509.],\n",
       "       [11130.]])"
      ]
     },
     "execution_count": 9,
     "metadata": {},
     "output_type": "execute_result"
    }
   ],
   "source": [
    "y"
   ]
  },
  {
   "cell_type": "markdown",
   "metadata": {},
   "source": [
    "### Numerical summaries"
   ]
  },
  {
   "cell_type": "markdown",
   "metadata": {},
   "source": [
    "#### Sample Mean\n",
    "\n",
    "$\\bar{y} = \\sum_{i=1}^n y_i$"
   ]
  },
  {
   "cell_type": "code",
   "execution_count": 10,
   "metadata": {},
   "outputs": [
    {
     "data": {
      "text/plain": [
       "20862.8125"
      ]
     },
     "execution_count": 10,
     "metadata": {},
     "output_type": "execute_result"
    }
   ],
   "source": [
    "y_mean = y.mean()\n",
    "y_mean"
   ]
  },
  {
   "cell_type": "markdown",
   "metadata": {},
   "source": [
    "#### Sample Standard Deviation\n",
    "\n",
    "$\\hat{\\sigma} = \\sqrt{\\frac{\\sum_{i=1}^n (y_i-\\bar{y})^2}{n-1}}$"
   ]
  },
  {
   "cell_type": "code",
   "execution_count": 11,
   "metadata": {},
   "outputs": [
    {
     "data": {
      "text/plain": [
       "10114.446813338027"
      ]
     },
     "execution_count": 11,
     "metadata": {},
     "output_type": "execute_result"
    }
   ],
   "source": [
    "y_std = y.std()\n",
    "y_std"
   ]
  },
  {
   "cell_type": "markdown",
   "metadata": {},
   "source": [
    "#### Median"
   ]
  },
  {
   "cell_type": "code",
   "execution_count": 12,
   "metadata": {},
   "outputs": [
    {
     "data": {
      "text/plain": [
       "17444.0"
      ]
     },
     "execution_count": 12,
     "metadata": {},
     "output_type": "execute_result"
    }
   ],
   "source": [
    "import numpy as np\n",
    "y_median = np.median(y)\n",
    "y_median"
   ]
  },
  {
   "cell_type": "code",
   "execution_count": 13,
   "metadata": {},
   "outputs": [
    {
     "data": {
      "text/plain": [
       "18"
      ]
     },
     "execution_count": 13,
     "metadata": {},
     "output_type": "execute_result"
    }
   ],
   "source": [
    "(y < y_mean).sum()"
   ]
  },
  {
   "cell_type": "code",
   "execution_count": 14,
   "metadata": {},
   "outputs": [
    {
     "data": {
      "text/plain": [
       "14"
      ]
     },
     "execution_count": 14,
     "metadata": {},
     "output_type": "execute_result"
    }
   ],
   "source": [
    "(y > y_mean).sum()"
   ]
  },
  {
   "cell_type": "code",
   "execution_count": 15,
   "metadata": {},
   "outputs": [
    {
     "data": {
      "text/plain": [
       "array([[ 8684.],\n",
       "       [ 9010.],\n",
       "       [11130.],\n",
       "       [11478.],\n",
       "       [11701.],\n",
       "       [11820.],\n",
       "       [11838.],\n",
       "       [12191.],\n",
       "       [12348.],\n",
       "       [13360.],\n",
       "       [15242.],\n",
       "       [15585.],\n",
       "       [15685.],\n",
       "       [15866.],\n",
       "       [16322.],\n",
       "       [17379.],\n",
       "       [17509.],\n",
       "       [18170.],\n",
       "       [21358.],\n",
       "       [21610.],\n",
       "       [23546.],\n",
       "       [24068.],\n",
       "       [26103.],\n",
       "       [26149.],\n",
       "       [27782.],\n",
       "       [28460.],\n",
       "       [29855.],\n",
       "       [30735.],\n",
       "       [33442.],\n",
       "       [36163.],\n",
       "       [38672.],\n",
       "       [54349.]])"
      ]
     },
     "execution_count": 15,
     "metadata": {},
     "output_type": "execute_result"
    }
   ],
   "source": [
    "y_sorted = np.sort(y, axis=0)\n",
    "y_sorted"
   ]
  },
  {
   "cell_type": "code",
   "execution_count": 16,
   "metadata": {},
   "outputs": [
    {
     "data": {
      "text/plain": [
       "array([17379.])"
      ]
     },
     "execution_count": 16,
     "metadata": {},
     "output_type": "execute_result"
    }
   ],
   "source": [
    "y_sorted[15]"
   ]
  },
  {
   "cell_type": "code",
   "execution_count": 17,
   "metadata": {},
   "outputs": [
    {
     "data": {
      "text/plain": [
       "array([17509.])"
      ]
     },
     "execution_count": 17,
     "metadata": {},
     "output_type": "execute_result"
    }
   ],
   "source": [
    "y_sorted[16]"
   ]
  },
  {
   "cell_type": "code",
   "execution_count": 18,
   "metadata": {},
   "outputs": [
    {
     "data": {
      "text/plain": [
       "array([17444.])"
      ]
     },
     "execution_count": 18,
     "metadata": {},
     "output_type": "execute_result"
    }
   ],
   "source": [
    "(y_sorted[15]+y_sorted[16])/2."
   ]
  },
  {
   "cell_type": "markdown",
   "metadata": {},
   "source": [
    "### Univariate Distribution Visualization"
   ]
  },
  {
   "cell_type": "code",
   "execution_count": 19,
   "metadata": {},
   "outputs": [
    {
     "name": "stdout",
     "output_type": "stream",
     "text": [
      "Populating the interactive namespace from numpy and matplotlib\n"
     ]
    },
    {
     "name": "stderr",
     "output_type": "stream",
     "text": [
      "/opt/conda/lib/python3.7/site-packages/IPython/core/magics/pylab.py:160: UserWarning: pylab import has clobbered these variables: ['f']\n",
      "`%matplotlib` prevents importing * from pylab and numpy\n",
      "  \"\\n`%matplotlib` prevents importing * from pylab and numpy\"\n"
     ]
    },
    {
     "data": {
      "text/plain": [
       "<matplotlib.axes._subplots.AxesSubplot at 0x7f5736d99588>"
      ]
     },
     "execution_count": 19,
     "metadata": {},
     "output_type": "execute_result"
    },
    {
     "data": {
      "image/png": "[encoded data removed]",
      "text/plain": [
       "<Figure size 432x288 with 1 Axes>"
      ]
     },
     "metadata": {
      "needs_background": "light"
     },
     "output_type": "display_data"
    }
   ],
   "source": [
    "%pylab inline\n",
    "import seaborn as sns\n",
    "sns.distplot(y)"
   ]
  },
  {
   "cell_type": "code",
   "execution_count": 20,
   "metadata": {},
   "outputs": [
    {
     "data": {
      "text/plain": [
       "<matplotlib.axes._subplots.AxesSubplot at 0x7f5736c5bbe0>"
      ]
     },
     "execution_count": 20,
     "metadata": {},
     "output_type": "execute_result"
    },
    {
     "data": {
      "image/png": "[encoded data removed]",
      "text/plain": [
       "<Figure size 432x288 with 1 Axes>"
      ]
     },
     "metadata": {
      "needs_background": "light"
     },
     "output_type": "display_data"
    }
   ],
   "source": [
    "sns.distplot(y, kde=False, rug=True)"
   ]
  },
  {
   "cell_type": "code",
   "execution_count": 21,
   "metadata": {},
   "outputs": [
    {
     "data": {
      "text/plain": [
       "<matplotlib.axes._subplots.AxesSubplot at 0x7f57333da1d0>"
      ]
     },
     "execution_count": 21,
     "metadata": {},
     "output_type": "execute_result"
    },
    {
     "data": {
      "image/png": "[encoded data removed]",
      "text/plain": [
       "<Figure size 432x288 with 1 Axes>"
      ]
     },
     "metadata": {
      "needs_background": "light"
     },
     "output_type": "display_data"
    }
   ],
   "source": [
    "sns.distplot(y, bins=5, kde=False, rug=True)"
   ]
  },
  {
   "cell_type": "code",
   "execution_count": 22,
   "metadata": {},
   "outputs": [
    {
     "data": {
      "text/plain": [
       "<matplotlib.axes._subplots.AxesSubplot at 0x7f5736cde978>"
      ]
     },
     "execution_count": 22,
     "metadata": {},
     "output_type": "execute_result"
    },
    {
     "data": {
      "image/png": "[encoded data removed]",
      "text/plain": [
       "<Figure size 432x288 with 1 Axes>"
      ]
     },
     "metadata": {
      "needs_background": "light"
     },
     "output_type": "display_data"
    }
   ],
   "source": [
    "sns.distplot(y, hist=False,  rug=True)"
   ]
  },
  {
   "cell_type": "markdown",
   "metadata": {},
   "source": [
    "## PySAL Classifiers"
   ]
  },
  {
   "cell_type": "markdown",
   "metadata": {},
   "source": [
    "### Quantiles"
   ]
  },
  {
   "cell_type": "code",
   "execution_count": 24,
   "metadata": {},
   "outputs": [],
   "source": [
    "from pysal.viz import mapclassify as mc"
   ]
  },
  {
   "cell_type": "code",
   "execution_count": 25,
   "metadata": {},
   "outputs": [],
   "source": [
    "q5 = mc.Quantiles(y)"
   ]
  },
  {
   "cell_type": "code",
   "execution_count": 26,
   "metadata": {},
   "outputs": [
    {
     "data": {
      "text/plain": [
       "                  Quantiles                  \n",
       " \n",
       "  Lower              Upper              Count\n",
       "=============================================\n",
       "            x[i] <= 11908.600               7\n",
       "11908.600 < x[i] <= 15757.400               6\n",
       "15757.400 < x[i] <= 21509.200               6\n",
       "21509.200 < x[i] <= 28324.400               6\n",
       "28324.400 < x[i] <= 54349.000               7"
      ]
     },
     "execution_count": 26,
     "metadata": {},
     "output_type": "execute_result"
    }
   ],
   "source": [
    "q5"
   ]
  },
  {
   "cell_type": "code",
   "execution_count": 27,
   "metadata": {},
   "outputs": [
    {
     "data": {
      "text/plain": [
       "['__call__',\n",
       " '__class__',\n",
       " '__delattr__',\n",
       " '__dict__',\n",
       " '__dir__',\n",
       " '__doc__',\n",
       " '__eq__',\n",
       " '__format__',\n",
       " '__ge__',\n",
       " '__getattribute__',\n",
       " '__gt__',\n",
       " '__hash__',\n",
       " '__init__',\n",
       " '__init_subclass__',\n",
       " '__le__',\n",
       " '__lt__',\n",
       " '__module__',\n",
       " '__ne__',\n",
       " '__new__',\n",
       " '__reduce__',\n",
       " '__reduce_ex__',\n",
       " '__repr__',\n",
       " '__setattr__',\n",
       " '__sizeof__',\n",
       " '__str__',\n",
       " '__subclasshook__',\n",
       " '__weakref__',\n",
       " '_classify',\n",
       " '_set_bins',\n",
       " '_summary',\n",
       " '_table_string',\n",
       " '_update',\n",
       " 'adcm',\n",
       " 'bins',\n",
       " 'classes',\n",
       " 'counts',\n",
       " 'find_bin',\n",
       " 'gadf',\n",
       " 'get_adcm',\n",
       " 'get_gadf',\n",
       " 'get_tss',\n",
       " 'k',\n",
       " 'make',\n",
       " 'name',\n",
       " 'plot',\n",
       " 'tss',\n",
       " 'update',\n",
       " 'y',\n",
       " 'yb']"
      ]
     },
     "execution_count": 27,
     "metadata": {},
     "output_type": "execute_result"
    }
   ],
   "source": [
    "dir(q5)"
   ]
  },
  {
   "cell_type": "code",
   "execution_count": 28,
   "metadata": {},
   "outputs": [
    {
     "data": {
      "text/plain": [
       "array([3, 4, 3, 4, 0, 4, 4, 2, 4, 2, 1, 0, 1, 3, 2, 0, 2, 0, 4, 0, 1, 3,\n",
       "       4, 2, 1, 3, 1, 3, 0, 1, 2, 0])"
      ]
     },
     "execution_count": 28,
     "metadata": {},
     "output_type": "execute_result"
    }
   ],
   "source": [
    "q5.yb"
   ]
  },
  {
   "cell_type": "code",
   "execution_count": 29,
   "metadata": {},
   "outputs": [
    {
     "data": {
      "text/plain": [
       "73562.0"
      ]
     },
     "execution_count": 29,
     "metadata": {},
     "output_type": "execute_result"
    }
   ],
   "source": [
    "q5.adcm"
   ]
  },
  {
   "cell_type": "code",
   "execution_count": 30,
   "metadata": {},
   "outputs": [
    {
     "data": {
      "text/plain": [
       "                  Quantiles                  \n",
       " \n",
       "  Lower              Upper              Count\n",
       "=============================================\n",
       "            x[i] <= 12308.750               8\n",
       "12308.750 < x[i] <= 17444.000               8\n",
       "17444.000 < x[i] <= 26557.250               8\n",
       "26557.250 < x[i] <= 54349.000               8"
      ]
     },
     "execution_count": 30,
     "metadata": {},
     "output_type": "execute_result"
    }
   ],
   "source": [
    "q4 = mc.Quantiles(y, k=4)\n",
    "q4"
   ]
  },
  {
   "cell_type": "markdown",
   "metadata": {},
   "source": [
    "### Equal Interval"
   ]
  },
  {
   "cell_type": "code",
   "execution_count": 31,
   "metadata": {},
   "outputs": [
    {
     "name": "stderr",
     "output_type": "stream",
     "text": [
      "/opt/conda/lib/python3.7/site-packages/pysal/viz/mapclassify/classifiers.py:482: UserWarning: Deprecated (2.1.0): Equal_Interval is being renamed to EqualInterval. Equal_Interval will be removed on 2020-01-31.\n",
      "  warn(self.message)\n"
     ]
    },
    {
     "data": {
      "text/plain": [
       "                Equal Interval                \n",
       " \n",
       "  Lower              Upper               Count\n",
       "==============================================\n",
       "            x[i] <= 17817.000               17\n",
       "17817.000 < x[i] <= 26950.000                7\n",
       "26950.000 < x[i] <= 36083.000                5\n",
       "36083.000 < x[i] <= 45216.000                2\n",
       "45216.000 < x[i] <= 54349.000                1"
      ]
     },
     "execution_count": 31,
     "metadata": {},
     "output_type": "execute_result"
    }
   ],
   "source": [
    "ei = mc.Equal_Interval(y, k=5)\n",
    "ei"
   ]
  },
  {
   "cell_type": "markdown",
   "metadata": {},
   "source": [
    "### Maximum Breaks"
   ]
  },
  {
   "cell_type": "code",
   "execution_count": 32,
   "metadata": {},
   "outputs": [
    {
     "name": "stderr",
     "output_type": "stream",
     "text": [
      "/opt/conda/lib/python3.7/site-packages/pysal/viz/mapclassify/classifiers.py:482: UserWarning: Deprecated (2.1.0): Maximum_Breaks is being renamed to MaximumBreaks. Maximum_Breaks will be removed on 2020-01-31.\n",
      "  warn(self.message)\n"
     ]
    },
    {
     "data": {
      "text/plain": [
       "                MaximumBreaks                 \n",
       " \n",
       "  Lower              Upper               Count\n",
       "==============================================\n",
       "            x[i] <= 19764.000               18\n",
       "19764.000 < x[i] <= 32088.500               10\n",
       "32088.500 < x[i] <= 34802.500                1\n",
       "34802.500 < x[i] <= 46510.500                2\n",
       "46510.500 < x[i] <= 54349.000                1"
      ]
     },
     "execution_count": 32,
     "metadata": {},
     "output_type": "execute_result"
    }
   ],
   "source": [
    "mb = mc.Maximum_Breaks(y, k=5)\n",
    "mb"
   ]
  },
  {
   "cell_type": "markdown",
   "metadata": {},
   "source": [
    "### Box Plot"
   ]
  },
  {
   "cell_type": "code",
   "execution_count": 33,
   "metadata": {},
   "outputs": [
    {
     "name": "stderr",
     "output_type": "stream",
     "text": [
      "/opt/conda/lib/python3.7/site-packages/pysal/viz/mapclassify/classifiers.py:482: UserWarning: Deprecated (2.1.0): Box_Plot is being renamed to BoxPlot. Box_Plot will be removed on 2020-01-31.\n",
      "  warn(self.message)\n"
     ]
    },
    {
     "data": {
      "text/plain": [
       "                   Box Plot                  \n",
       " \n",
       "  Lower              Upper              Count\n",
       "=============================================\n",
       "            x[i] <= -9064.000               0\n",
       "-9064.000 < x[i] <= 12308.750               8\n",
       "12308.750 < x[i] <= 17444.000               8\n",
       "17444.000 < x[i] <= 26557.250               8\n",
       "26557.250 < x[i] <= 47930.000               7\n",
       "47930.000 < x[i] <= 54349.000               1"
      ]
     },
     "execution_count": 33,
     "metadata": {},
     "output_type": "execute_result"
    }
   ],
   "source": [
    "bp = mc.Box_Plot(y)\n",
    "bp"
   ]
  },
  {
   "cell_type": "markdown",
   "metadata": {},
   "source": [
    "### Standard Deviation"
   ]
  },
  {
   "cell_type": "code",
   "execution_count": 34,
   "metadata": {},
   "outputs": [
    {
     "name": "stderr",
     "output_type": "stream",
     "text": [
      "/opt/conda/lib/python3.7/site-packages/pysal/viz/mapclassify/classifiers.py:482: UserWarning: Deprecated (2.1.0): Std_Mean is being renamed to StdMean. Std_Mean will be removed on 2020-01-31.\n",
      "  warn(self.message)\n"
     ]
    },
    {
     "data": {
      "text/plain": [
       "                   StdMean                    \n",
       " \n",
       "  Lower              Upper               Count\n",
       "==============================================\n",
       "            x[i] <=   310.236                0\n",
       "  310.236 < x[i] <= 10586.524                2\n",
       "10586.524 < x[i] <= 31139.101               26\n",
       "31139.101 < x[i] <= 41415.389                3\n",
       "41415.389 < x[i] <= 54349.000                1"
      ]
     },
     "execution_count": 34,
     "metadata": {},
     "output_type": "execute_result"
    }
   ],
   "source": [
    "sd = mc.Std_Mean(y)\n",
    "sd"
   ]
  },
  {
   "cell_type": "markdown",
   "metadata": {},
   "source": [
    "### Head Tail"
   ]
  },
  {
   "cell_type": "code",
   "execution_count": 35,
   "metadata": {},
   "outputs": [
    {
     "name": "stderr",
     "output_type": "stream",
     "text": [
      "/opt/conda/lib/python3.7/site-packages/pysal/viz/mapclassify/classifiers.py:482: UserWarning: Deprecated (2.1.0): HeadTail_Breaks is being renamed to HeadTailBreaks. HeadTail_Breaks will be removed on 2020-01-31.\n",
      "  warn(self.message)\n",
      "/opt/conda/lib/python3.7/site-packages/pysal/viz/mapclassify/classifiers.py:86: DeprecationWarning: Call to deprecated function (or staticmethod) headTail_breaks. (use head_tail_breaks)\n",
      "  return headTail_breaks(values[values >= mean], cuts)\n",
      "/opt/conda/lib/python3.7/site-packages/pysal/viz/mapclassify/classifiers.py:86: DeprecationWarning: Call to deprecated function (or staticmethod) headTail_breaks. (use head_tail_breaks)\n",
      "  return headTail_breaks(values[values >= mean], cuts)\n",
      "/opt/conda/lib/python3.7/site-packages/pysal/viz/mapclassify/classifiers.py:86: DeprecationWarning: Call to deprecated function (or staticmethod) headTail_breaks. (use head_tail_breaks)\n",
      "  return headTail_breaks(values[values >= mean], cuts)\n"
     ]
    },
    {
     "data": {
      "text/plain": [
       "                HeadTailBreaks                \n",
       " \n",
       "  Lower              Upper               Count\n",
       "==============================================\n",
       "            x[i] <= 20862.812               18\n",
       "20862.812 < x[i] <= 30163.714                9\n",
       "30163.714 < x[i] <= 38672.200                4\n",
       "38672.200 < x[i] <= 54349.000                1"
      ]
     },
     "execution_count": 35,
     "metadata": {},
     "output_type": "execute_result"
    }
   ],
   "source": [
    "ht = mc.HeadTail_Breaks(y) # need to change import structure\n",
    "ht"
   ]
  },
  {
   "cell_type": "markdown",
   "metadata": {},
   "source": [
    "### Jenks Caspall"
   ]
  },
  {
   "cell_type": "code",
   "execution_count": 36,
   "metadata": {},
   "outputs": [
    {
     "name": "stderr",
     "output_type": "stream",
     "text": [
      "/opt/conda/lib/python3.7/site-packages/pysal/viz/mapclassify/classifiers.py:482: UserWarning: Deprecated (2.1.0): Jenks_Caspall is being renamed to JenksCaspall. Jenks_Caspall will be removed on 2020-01-31.\n",
      "  warn(self.message)\n"
     ]
    },
    {
     "data": {
      "text/plain": [
       "                 JenksCaspall                 \n",
       " \n",
       "  Lower              Upper               Count\n",
       "==============================================\n",
       "            x[i] <= 13360.000               10\n",
       "13360.000 < x[i] <= 16322.000                5\n",
       "16322.000 < x[i] <= 21610.000                5\n",
       "21610.000 < x[i] <= 30735.000                8\n",
       "30735.000 < x[i] <= 54349.000                4"
      ]
     },
     "execution_count": 36,
     "metadata": {},
     "output_type": "execute_result"
    }
   ],
   "source": [
    "import numpy as np\n",
    "np.random.seed(12345)\n",
    "jc = mc.Jenks_Caspall(y)\n",
    "jc"
   ]
  },
  {
   "cell_type": "code",
   "execution_count": 37,
   "metadata": {},
   "outputs": [
    {
     "name": "stderr",
     "output_type": "stream",
     "text": [
      "/opt/conda/lib/python3.7/site-packages/pysal/viz/mapclassify/classifiers.py:482: UserWarning: Deprecated (2.1.0): Jenks_Caspall_Forced is being renamed to JenksCaspallForced. Jenks_Caspall_Forced will be removed on 2020-01-31.\n",
      "  warn(self.message)\n"
     ]
    },
    {
     "data": {
      "text/plain": [
       "              JenksCaspallForced             \n",
       " \n",
       "  Lower              Upper              Count\n",
       "=============================================\n",
       "            x[i] <= 11838.000               7\n",
       "11838.000 < x[i] <= 15685.000               6\n",
       "15685.000 < x[i] <= 21358.000               6\n",
       "21358.000 < x[i] <= 29855.000               8\n",
       "29855.000 < x[i] <= 54349.000               5"
      ]
     },
     "execution_count": 37,
     "metadata": {},
     "output_type": "execute_result"
    }
   ],
   "source": [
    "jcf = mc.Jenks_Caspall_Forced(y)\n",
    "jcf"
   ]
  },
  {
   "cell_type": "markdown",
   "metadata": {},
   "source": [
    "### Fisher Jenks"
   ]
  },
  {
   "cell_type": "code",
   "execution_count": 38,
   "metadata": {},
   "outputs": [
    {
     "name": "stderr",
     "output_type": "stream",
     "text": [
      "/opt/conda/lib/python3.7/site-packages/pysal/viz/mapclassify/classifiers.py:482: UserWarning: Deprecated (2.1.0): Fisher_Jenks is being renamed to FisherJenks. Fisher_Jenks will be removed on 2020-01-31.\n",
      "  warn(self.message)\n"
     ]
    },
    {
     "data": {
      "text/plain": [
       "                 FisherJenks                  \n",
       " \n",
       "  Lower              Upper               Count\n",
       "==============================================\n",
       "            x[i] <= 13360.000               10\n",
       "13360.000 < x[i] <= 21610.000               10\n",
       "21610.000 < x[i] <= 30735.000                8\n",
       "30735.000 < x[i] <= 38672.000                3\n",
       "38672.000 < x[i] <= 54349.000                1"
      ]
     },
     "execution_count": 38,
     "metadata": {},
     "output_type": "execute_result"
    }
   ],
   "source": [
    "fj = mc.Fisher_Jenks(y, k=5)\n",
    "fj"
   ]
  },
  {
   "cell_type": "markdown",
   "metadata": {},
   "source": [
    "### max-p"
   ]
  },
  {
   "cell_type": "code",
   "execution_count": 39,
   "metadata": {},
   "outputs": [
    {
     "name": "stderr",
     "output_type": "stream",
     "text": [
      "/opt/conda/lib/python3.7/site-packages/pysal/viz/mapclassify/classifiers.py:482: UserWarning: Deprecated (2.1.0): Max_P_Classifier is being renamed to MaxP. Max_P_Classifier will be removed on 2020-01-31.\n",
      "  warn(self.message)\n"
     ]
    },
    {
     "data": {
      "text/plain": [
       "                     MaxP                    \n",
       " \n",
       "  Lower              Upper              Count\n",
       "=============================================\n",
       "            x[i] <= 12348.000               9\n",
       "12348.000 < x[i] <= 18170.000               9\n",
       "18170.000 < x[i] <= 21358.000               1\n",
       "21358.000 < x[i] <= 28460.000               7\n",
       "28460.000 < x[i] <= 54349.000               6"
      ]
     },
     "execution_count": 39,
     "metadata": {},
     "output_type": "execute_result"
    }
   ],
   "source": [
    "mp = mc.Max_P_Classifier(y, k=5)\n",
    "mp"
   ]
  },
  {
   "cell_type": "markdown",
   "metadata": {},
   "source": [
    "### Fit"
   ]
  },
  {
   "cell_type": "code",
   "execution_count": 40,
   "metadata": {},
   "outputs": [
    {
     "data": {
      "text/plain": [
       "65722.0"
      ]
     },
     "execution_count": 40,
     "metadata": {},
     "output_type": "execute_result"
    }
   ],
   "source": [
    "mp.adcm"
   ]
  },
  {
   "cell_type": "code",
   "execution_count": 41,
   "metadata": {},
   "outputs": [
    {
     "data": {
      "text/plain": [
       "49076.0"
      ]
     },
     "execution_count": 41,
     "metadata": {},
     "output_type": "execute_result"
    }
   ],
   "source": [
    "fj.adcm"
   ]
  },
  {
   "cell_type": "code",
   "execution_count": 42,
   "metadata": {},
   "outputs": [
    {
     "data": {
      "text/plain": [
       "73562.0"
      ]
     },
     "execution_count": 42,
     "metadata": {},
     "output_type": "execute_result"
    }
   ],
   "source": [
    "q5.adcm"
   ]
  },
  {
   "cell_type": "code",
   "execution_count": 43,
   "metadata": {},
   "outputs": [
    {
     "data": {
      "text/plain": [
       "68381.0"
      ]
     },
     "execution_count": 43,
     "metadata": {},
     "output_type": "execute_result"
    }
   ],
   "source": [
    "jcf.adcm"
   ]
  },
  {
   "cell_type": "code",
   "execution_count": 44,
   "metadata": {},
   "outputs": [
    {
     "data": {
      "text/plain": [
       "73723.0"
      ]
     },
     "execution_count": 44,
     "metadata": {},
     "output_type": "execute_result"
    }
   ],
   "source": [
    "mb.adcm"
   ]
  },
  {
   "cell_type": "code",
   "execution_count": 45,
   "metadata": {},
   "outputs": [
    {
     "data": {
      "text/plain": [
       "82978.0"
      ]
     },
     "execution_count": 45,
     "metadata": {},
     "output_type": "execute_result"
    }
   ],
   "source": [
    "q4.adcm"
   ]
  },
  {
   "cell_type": "code",
   "execution_count": 46,
   "metadata": {},
   "outputs": [],
   "source": [
    "res = [mp, fj, q5, jcf, mb, sd, bp, ht]"
   ]
  },
  {
   "cell_type": "code",
   "execution_count": 47,
   "metadata": {},
   "outputs": [],
   "source": [
    "adcms = [m.adcm for m in res]"
   ]
  },
  {
   "cell_type": "code",
   "execution_count": 48,
   "metadata": {},
   "outputs": [
    {
     "data": {
      "text/plain": [
       "[65722.0, 49076.0, 73562.0, 68381.0, 73723.0, 143714.0, 59364.0, 77240.0]"
      ]
     },
     "execution_count": 48,
     "metadata": {},
     "output_type": "execute_result"
    }
   ],
   "source": [
    "adcms"
   ]
  },
  {
   "cell_type": "code",
   "execution_count": 49,
   "metadata": {},
   "outputs": [
    {
     "data": {
      "text/plain": [
       "6"
      ]
     },
     "execution_count": 49,
     "metadata": {},
     "output_type": "execute_result"
    }
   ],
   "source": [
    "bp.k"
   ]
  },
  {
   "cell_type": "code",
   "execution_count": 50,
   "metadata": {},
   "outputs": [
    {
     "data": {
      "text/plain": [
       "5"
      ]
     },
     "execution_count": 50,
     "metadata": {},
     "output_type": "execute_result"
    }
   ],
   "source": [
    "mp.k"
   ]
  },
  {
   "cell_type": "markdown",
   "metadata": {},
   "source": [
    "## Consensus classification"
   ]
  },
  {
   "cell_type": "code",
   "execution_count": 51,
   "metadata": {},
   "outputs": [
    {
     "data": {
      "text/plain": [
       "array([[3, 2, 3, 3, 1, 2, 4, 1],\n",
       "       [4, 2, 4, 3, 1, 2, 4, 1],\n",
       "       [3, 2, 3, 3, 1, 2, 3, 1],\n",
       "       [4, 3, 4, 4, 3, 3, 4, 2],\n",
       "       [0, 0, 0, 0, 0, 1, 1, 0],\n",
       "       [4, 2, 4, 4, 1, 2, 4, 2],\n",
       "       [3, 2, 4, 3, 1, 2, 4, 1],\n",
       "       [2, 1, 2, 2, 1, 2, 3, 1],\n",
       "       [4, 4, 4, 4, 4, 4, 5, 3],\n",
       "       [1, 1, 2, 2, 0, 2, 2, 0],\n",
       "       [1, 1, 1, 1, 0, 2, 2, 0],\n",
       "       [0, 0, 0, 0, 0, 2, 1, 0],\n",
       "       [0, 0, 1, 1, 0, 2, 2, 0],\n",
       "       [3, 1, 3, 3, 1, 2, 3, 1],\n",
       "       [1, 1, 2, 2, 0, 2, 2, 0],\n",
       "       [0, 0, 0, 0, 0, 2, 1, 0],\n",
       "       [1, 1, 2, 2, 0, 2, 3, 0],\n",
       "       [0, 0, 0, 0, 0, 2, 1, 0],\n",
       "       [4, 3, 4, 4, 3, 3, 4, 2],\n",
       "       [0, 0, 0, 0, 0, 1, 1, 0],\n",
       "       [1, 1, 1, 1, 0, 2, 2, 0],\n",
       "       [3, 2, 3, 3, 1, 2, 3, 1],\n",
       "       [4, 3, 4, 4, 2, 3, 4, 2],\n",
       "       [1, 1, 2, 2, 0, 2, 2, 0],\n",
       "       [1, 1, 1, 1, 0, 2, 2, 0],\n",
       "       [3, 2, 3, 3, 1, 2, 3, 1],\n",
       "       [1, 0, 1, 1, 0, 2, 2, 0],\n",
       "       [3, 2, 3, 3, 1, 2, 3, 1],\n",
       "       [0, 0, 0, 0, 0, 2, 1, 0],\n",
       "       [0, 0, 1, 1, 0, 2, 1, 0],\n",
       "       [1, 1, 2, 2, 0, 2, 3, 0],\n",
       "       [0, 0, 0, 0, 0, 2, 1, 0]])"
      ]
     },
     "execution_count": 51,
     "metadata": {},
     "output_type": "execute_result"
    }
   ],
   "source": [
    "ybs = np.array([m.yb for m in res])\n",
    "ybs.T"
   ]
  },
  {
   "cell_type": "code",
   "execution_count": 52,
   "metadata": {},
   "outputs": [],
   "source": [
    "from sklearn.cluster import KMeans "
   ]
  },
  {
   "cell_type": "code",
   "execution_count": 53,
   "metadata": {},
   "outputs": [],
   "source": [
    "km = KMeans(n_clusters=5)"
   ]
  },
  {
   "cell_type": "code",
   "execution_count": 54,
   "metadata": {},
   "outputs": [
    {
     "data": {
      "text/plain": [
       "KMeans(algorithm='auto', copy_x=True, init='k-means++', max_iter=300,\n",
       "       n_clusters=5, n_init=10, n_jobs=None, precompute_distances='auto',\n",
       "       random_state=None, tol=0.0001, verbose=0)"
      ]
     },
     "execution_count": 54,
     "metadata": {},
     "output_type": "execute_result"
    }
   ],
   "source": [
    "km.fit(ybs.T)"
   ]
  },
  {
   "cell_type": "code",
   "execution_count": 55,
   "metadata": {},
   "outputs": [
    {
     "data": {
      "text/plain": [
       "array([2, 2, 2, 1, 3, 2, 2, 4, 1, 4, 0, 3, 0, 2, 4, 3, 4, 3, 1, 3, 0, 2,\n",
       "       1, 4, 0, 2, 0, 2, 3, 0, 4, 3], dtype=int32)"
      ]
     },
     "execution_count": 55,
     "metadata": {},
     "output_type": "execute_result"
    }
   ],
   "source": [
    "km.labels_"
   ]
  },
  {
   "cell_type": "code",
   "execution_count": 56,
   "metadata": {},
   "outputs": [
    {
     "data": {
      "text/plain": [
       "array([[27782.],\n",
       "       [29855.],\n",
       "       [26103.],\n",
       "       [36163.],\n",
       "       [ 8684.],\n",
       "       [30735.],\n",
       "       [28460.],\n",
       "       [21358.],\n",
       "       [54349.],\n",
       "       [17379.],\n",
       "       [15585.],\n",
       "       [11820.],\n",
       "       [12348.],\n",
       "       [21610.],\n",
       "       [16322.],\n",
       "       [11838.],\n",
       "       [18170.],\n",
       "       [11478.],\n",
       "       [38672.],\n",
       "       [ 9010.],\n",
       "       [15685.],\n",
       "       [26149.],\n",
       "       [33442.],\n",
       "       [15866.],\n",
       "       [15242.],\n",
       "       [24068.],\n",
       "       [13360.],\n",
       "       [23546.],\n",
       "       [11701.],\n",
       "       [12191.],\n",
       "       [17509.],\n",
       "       [11130.]])"
      ]
     },
     "execution_count": 56,
     "metadata": {},
     "output_type": "execute_result"
    }
   ],
   "source": [
    "y"
   ]
  },
  {
   "cell_type": "code",
   "execution_count": 52,
   "metadata": {},
   "outputs": [
    {
     "data": {
      "text/plain": [
       "array([[  8684.],\n",
       "       [ 11820.],\n",
       "       [ 11838.],\n",
       "       [ 11478.],\n",
       "       [  9010.],\n",
       "       [ 11701.],\n",
       "       [ 11130.]])"
      ]
     },
     "execution_count": 52,
     "metadata": {},
     "output_type": "execute_result"
    }
   ],
   "source": [
    "y[km.labels_==4]"
   ]
  },
  {
   "cell_type": "code",
   "execution_count": 57,
   "metadata": {},
   "outputs": [
    {
     "name": "stdout",
     "output_type": "stream",
     "text": [
      "[[15585.]\n",
      " [12348.]\n",
      " [15685.]\n",
      " [15242.]\n",
      " [13360.]\n",
      " [12191.]]\n",
      "12191.0 15685.0\n",
      "[[36163.]\n",
      " [54349.]\n",
      " [38672.]\n",
      " [33442.]]\n",
      "33442.0 54349.0\n",
      "[[27782.]\n",
      " [29855.]\n",
      " [26103.]\n",
      " [30735.]\n",
      " [28460.]\n",
      " [21610.]\n",
      " [26149.]\n",
      " [24068.]\n",
      " [23546.]]\n",
      "21610.0 30735.0\n",
      "[[ 8684.]\n",
      " [11820.]\n",
      " [11838.]\n",
      " [11478.]\n",
      " [ 9010.]\n",
      " [11701.]\n",
      " [11130.]]\n",
      "8684.0 11838.0\n",
      "[[21358.]\n",
      " [17379.]\n",
      " [16322.]\n",
      " [18170.]\n",
      " [15866.]\n",
      " [17509.]]\n",
      "15866.0 21358.0\n"
     ]
    }
   ],
   "source": [
    "cc = []\n",
    "for c in range(5):\n",
    "    cl = km.labels_==c\n",
    "    yc = y[cl]\n",
    "    print(yc)\n",
    "    print(yc.min(), yc.max())\n",
    "    cc.append(yc.max())\n",
    "    "
   ]
  },
  {
   "cell_type": "code",
   "execution_count": 58,
   "metadata": {},
   "outputs": [
    {
     "data": {
      "text/plain": [
       "[11838.0, 15685.0, 21358.0, 30735.0, 54349.0]"
      ]
     },
     "execution_count": 58,
     "metadata": {},
     "output_type": "execute_result"
    }
   ],
   "source": [
    "cc.sort()\n",
    "cc"
   ]
  },
  {
   "cell_type": "code",
   "execution_count": 59,
   "metadata": {},
   "outputs": [
    {
     "name": "stderr",
     "output_type": "stream",
     "text": [
      "/opt/conda/lib/python3.7/site-packages/pysal/viz/mapclassify/classifiers.py:482: UserWarning: Deprecated (2.1.0): User_Defined is being renamed to UserDefined. User_Defined will be removed on 2020-01-31.\n",
      "  warn(self.message)\n"
     ]
    },
    {
     "data": {
      "text/plain": [
       "                 UserDefined                 \n",
       " \n",
       "  Lower              Upper              Count\n",
       "=============================================\n",
       "            x[i] <= 11838.000               7\n",
       "11838.000 < x[i] <= 15685.000               6\n",
       "15685.000 < x[i] <= 21358.000               6\n",
       "21358.000 < x[i] <= 30735.000               9\n",
       "30735.000 < x[i] <= 54349.000               4"
      ]
     },
     "execution_count": 59,
     "metadata": {},
     "output_type": "execute_result"
    }
   ],
   "source": [
    "uc = mc.User_Defined(y, bins=cc)\n",
    "uc"
   ]
  },
  {
   "cell_type": "code",
   "execution_count": 60,
   "metadata": {},
   "outputs": [
    {
     "data": {
      "text/plain": [
       "67539.0"
      ]
     },
     "execution_count": 60,
     "metadata": {},
     "output_type": "execute_result"
    }
   ],
   "source": [
    "uc.adcm"
   ]
  },
  {
   "cell_type": "code",
   "execution_count": 61,
   "metadata": {},
   "outputs": [
    {
     "data": {
      "text/plain": [
       "49076.0"
      ]
     },
     "execution_count": 61,
     "metadata": {},
     "output_type": "execute_result"
    }
   ],
   "source": [
    "fj.adcm"
   ]
  },
  {
   "cell_type": "code",
   "execution_count": 62,
   "metadata": {},
   "outputs": [
    {
     "data": {
      "text/plain": [
       "73562.0"
      ]
     },
     "execution_count": 62,
     "metadata": {},
     "output_type": "execute_result"
    }
   ],
   "source": [
    "q5.adcm"
   ]
  },
  {
   "cell_type": "code",
   "execution_count": 63,
   "metadata": {},
   "outputs": [],
   "source": [
    "from scipy.cluster.hierarchy import dendrogram, linkage"
   ]
  },
  {
   "cell_type": "markdown",
   "metadata": {},
   "source": [
    "Hiearchical clustering using [Ward's method](http://sites.stat.psu.edu/~ajw13/stat505/fa06/19_cluster/09_cluster_wards.html)."
   ]
  },
  {
   "cell_type": "code",
   "execution_count": 64,
   "metadata": {},
   "outputs": [],
   "source": [
    "Z = linkage(ybs.T, 'ward')"
   ]
  },
  {
   "cell_type": "code",
   "execution_count": 65,
   "metadata": {},
   "outputs": [
    {
     "data": {
      "text/plain": [
       "array([[ 2.        , 21.        ,  0.        ,  2.        ],\n",
       "       [ 3.        , 18.        ,  0.        ,  2.        ],\n",
       "       [ 4.        , 19.        ,  0.        ,  2.        ],\n",
       "       [25.        , 32.        ,  0.        ,  3.        ],\n",
       "       [27.        , 35.        ,  0.        ,  4.        ],\n",
       "       [16.        , 30.        ,  0.        ,  2.        ],\n",
       "       [ 9.        , 14.        ,  0.        ,  2.        ],\n",
       "       [23.        , 38.        ,  0.        ,  3.        ],\n",
       "       [10.        , 20.        ,  0.        ,  2.        ],\n",
       "       [24.        , 40.        ,  0.        ,  3.        ],\n",
       "       [11.        , 15.        ,  0.        ,  2.        ],\n",
       "       [17.        , 42.        ,  0.        ,  3.        ],\n",
       "       [28.        , 43.        ,  0.        ,  4.        ],\n",
       "       [31.        , 44.        ,  0.        ,  5.        ],\n",
       "       [ 0.        ,  6.        ,  1.        ,  2.        ],\n",
       "       [12.        , 26.        ,  1.        ,  2.        ],\n",
       "       [22.        , 33.        ,  1.15470054,  3.        ],\n",
       "       [13.        , 36.        ,  1.26491106,  5.        ],\n",
       "       [ 1.        , 46.        ,  1.29099445,  3.        ],\n",
       "       [29.        , 47.        ,  1.29099445,  3.        ],\n",
       "       [37.        , 39.        ,  1.54919334,  5.        ],\n",
       "       [34.        , 45.        ,  1.69030851,  7.        ],\n",
       "       [ 5.        , 50.        ,  1.95789002,  4.        ],\n",
       "       [41.        , 51.        ,  2.1602469 ,  6.        ],\n",
       "       [ 7.        , 52.        ,  2.36643191,  6.        ],\n",
       "       [ 8.        , 48.        ,  2.94392029,  4.        ],\n",
       "       [49.        , 54.        ,  2.96460603,  9.        ],\n",
       "       [55.        , 56.        ,  4.24264069, 12.        ],\n",
       "       [57.        , 58.        ,  7.87617852, 13.        ],\n",
       "       [53.        , 59.        ,  8.06676402, 19.        ],\n",
       "       [60.        , 61.        , 22.5083599 , 32.        ]])"
      ]
     },
     "execution_count": 65,
     "metadata": {},
     "output_type": "execute_result"
    }
   ],
   "source": [
    "Z"
   ]
  },
  {
   "cell_type": "code",
   "execution_count": 66,
   "metadata": {},
   "outputs": [
    {
     "data": {
      "image/png": "[encoded data removed]",
      "text/plain": [
       "<Figure size 1800x720 with 1 Axes>"
      ]
     },
     "metadata": {
      "needs_background": "light"
     },
     "output_type": "display_data"
    }
   ],
   "source": [
    "plt.figure(figsize=(25, 10))\n",
    "plt.title('Hierarchical Clustering Dendrogram')\n",
    "plt.xlabel('sample index')\n",
    "plt.ylabel('distance')\n",
    "dendrogram(\n",
    "    Z,\n",
    "    leaf_rotation=90.,  # rotates the x axis labels\n",
    "    leaf_font_size=10.,  # font size for the x axis labels\n",
    ")\n",
    "plt.show()\n"
   ]
  },
  {
   "cell_type": "code",
   "execution_count": 67,
   "metadata": {},
   "outputs": [
    {
     "data": {
      "text/plain": [
       "array([[ 2.        , 21.        ,  0.        ,  2.        ],\n",
       "       [ 3.        , 18.        ,  0.        ,  2.        ],\n",
       "       [ 4.        , 19.        ,  0.        ,  2.        ],\n",
       "       [25.        , 32.        ,  0.        ,  3.        ],\n",
       "       [27.        , 35.        ,  0.        ,  4.        ],\n",
       "       [16.        , 30.        ,  0.        ,  2.        ],\n",
       "       [ 9.        , 14.        ,  0.        ,  2.        ],\n",
       "       [23.        , 38.        ,  0.        ,  3.        ],\n",
       "       [10.        , 20.        ,  0.        ,  2.        ],\n",
       "       [24.        , 40.        ,  0.        ,  3.        ],\n",
       "       [11.        , 15.        ,  0.        ,  2.        ],\n",
       "       [17.        , 42.        ,  0.        ,  3.        ],\n",
       "       [28.        , 43.        ,  0.        ,  4.        ],\n",
       "       [31.        , 44.        ,  0.        ,  5.        ],\n",
       "       [ 0.        ,  6.        ,  1.        ,  2.        ],\n",
       "       [12.        , 26.        ,  1.        ,  2.        ],\n",
       "       [22.        , 33.        ,  1.15470054,  3.        ],\n",
       "       [13.        , 36.        ,  1.26491106,  5.        ],\n",
       "       [ 1.        , 46.        ,  1.29099445,  3.        ],\n",
       "       [29.        , 47.        ,  1.29099445,  3.        ],\n",
       "       [37.        , 39.        ,  1.54919334,  5.        ],\n",
       "       [34.        , 45.        ,  1.69030851,  7.        ],\n",
       "       [ 5.        , 50.        ,  1.95789002,  4.        ],\n",
       "       [41.        , 51.        ,  2.1602469 ,  6.        ],\n",
       "       [ 7.        , 52.        ,  2.36643191,  6.        ],\n",
       "       [ 8.        , 48.        ,  2.94392029,  4.        ],\n",
       "       [49.        , 54.        ,  2.96460603,  9.        ],\n",
       "       [55.        , 56.        ,  4.24264069, 12.        ],\n",
       "       [57.        , 58.        ,  7.87617852, 13.        ],\n",
       "       [53.        , 59.        ,  8.06676402, 19.        ],\n",
       "       [60.        , 61.        , 22.5083599 , 32.        ]])"
      ]
     },
     "execution_count": 67,
     "metadata": {},
     "output_type": "execute_result"
    }
   ],
   "source": [
    "Z"
   ]
  },
  {
   "cell_type": "code",
   "execution_count": 68,
   "metadata": {},
   "outputs": [
    {
     "data": {
      "text/plain": [
       "array([[3, 2, 3, 3, 1, 2, 3, 1],\n",
       "       [3, 2, 3, 3, 1, 2, 3, 1]])"
      ]
     },
     "execution_count": 68,
     "metadata": {},
     "output_type": "execute_result"
    }
   ],
   "source": [
    "ybs.T[[2,21]]"
   ]
  },
  {
   "cell_type": "code",
   "execution_count": 69,
   "metadata": {},
   "outputs": [
    {
     "data": {
      "text/plain": [
       "array([[26103.],\n",
       "       [26149.]])"
      ]
     },
     "execution_count": 69,
     "metadata": {},
     "output_type": "execute_result"
    }
   ],
   "source": [
    "y[[2, 21]]"
   ]
  },
  {
   "cell_type": "code",
   "execution_count": 70,
   "metadata": {},
   "outputs": [
    {
     "data": {
      "text/plain": [
       "array([[4, 3, 4, 4, 3, 3, 4, 2],\n",
       "       [4, 3, 4, 4, 3, 3, 4, 2]])"
      ]
     },
     "execution_count": 70,
     "metadata": {},
     "output_type": "execute_result"
    }
   ],
   "source": [
    "ybs.T[[3, 18]]"
   ]
  },
  {
   "cell_type": "code",
   "execution_count": 71,
   "metadata": {},
   "outputs": [
    {
     "data": {
      "text/plain": [
       "array([[36163.],\n",
       "       [38672.]])"
      ]
     },
     "execution_count": 71,
     "metadata": {},
     "output_type": "execute_result"
    }
   ],
   "source": [
    "y[[3, 18]]"
   ]
  },
  {
   "cell_type": "markdown",
   "metadata": {},
   "source": [
    "Looking at our z matrix, the first time we see an index (idx) larger than len(y) is in step 7 (idx=6 since Python is 0 offset).\n",
    "\n"
   ]
  },
  {
   "cell_type": "code",
   "execution_count": 72,
   "metadata": {},
   "outputs": [
    {
     "data": {
      "text/plain": [
       "array([ 9., 14.,  0.,  2.])"
      ]
     },
     "execution_count": 72,
     "metadata": {},
     "output_type": "execute_result"
    }
   ],
   "source": [
    "Z[6]"
   ]
  },
  {
   "cell_type": "markdown",
   "metadata": {},
   "source": [
    "Here we have singleton 23 being merged with cluster index 35. But we only have n=32 states. The question is what cluster is 23 being joined to in this step?\n",
    "\n",
    "All indices idx > len(X) indicate point to a cluster formered at step idx - len(x).\n",
    "\n",
    "So:\n"
   ]
  },
  {
   "cell_type": "code",
   "execution_count": 73,
   "metadata": {},
   "outputs": [
    {
     "data": {
      "text/plain": [
       "array([25., 32.,  0.,  3.])"
      ]
     },
     "execution_count": 73,
     "metadata": {},
     "output_type": "execute_result"
    }
   ],
   "source": [
    "Z[35 - 32]"
   ]
  },
  {
   "cell_type": "markdown",
   "metadata": {},
   "source": [
    "means that in step 6, the algorithm joins singleton 23 to the cluster  with id 35 composed of (9, 14). Cluster 35 formed in step idx-len(y)=  35-2 = 3.\n",
    "\n",
    "The new cluster has size 3 and is defined as (9, 14, 23)."
   ]
  },
  {
   "cell_type": "code",
   "execution_count": 74,
   "metadata": {},
   "outputs": [
    {
     "data": {
      "image/png": "[encoded data removed]",
      "text/plain": [
       "<Figure size 432x288 with 1 Axes>"
      ]
     },
     "metadata": {
      "needs_background": "light"
     },
     "output_type": "display_data"
    }
   ],
   "source": [
    "plt.title('Hierarchical Clustering Dendrogram (truncated)')\n",
    "plt.xlabel('sample index or (cluster size)')\n",
    "plt.ylabel('distance')\n",
    "dendrogram(\n",
    "    Z,\n",
    "    truncate_mode='lastp',  # show only the last p merged clusters\n",
    "    p=11,  # show only the last p merged clusters\n",
    "    leaf_rotation=90.,\n",
    "    leaf_font_size=20.,\n",
    "    show_contracted=True,  # to get a distribution impression in truncated branches\n",
    ")\n",
    "plt.show()"
   ]
  },
  {
   "cell_type": "code",
   "execution_count": 75,
   "metadata": {},
   "outputs": [
    {
     "data": {
      "image/png": "[encoded data removed]",
      "text/plain": [
       "<Figure size 432x288 with 1 Axes>"
      ]
     },
     "metadata": {
      "needs_background": "light"
     },
     "output_type": "display_data"
    }
   ],
   "source": [
    "plt.title('Hierarchical Clustering Dendrogram (truncated)')\n",
    "plt.xlabel('sample index or (cluster size)')\n",
    "plt.ylabel('distance')\n",
    "dendrogram(\n",
    "    Z,\n",
    "    truncate_mode='lastp',  # show only the last p merged clusters\n",
    "    p=5,  # show only the last p merged clusters\n",
    "    leaf_rotation=90.,\n",
    "    leaf_font_size=12.,\n",
    "    show_contracted=True,  # to get a distribution impression in truncated branches\n",
    ")\n",
    "plt.show()"
   ]
  },
  {
   "cell_type": "code",
   "execution_count": 76,
   "metadata": {},
   "outputs": [
    {
     "data": {
      "text/plain": [
       "array([2, 2, 2, 1, 3, 2, 2, 5, 1, 5, 4, 3, 4, 2, 5, 3, 5, 3, 1, 3, 4, 2,\n",
       "       1, 5, 4, 2, 4, 2, 3, 4, 5, 3], dtype=int32)"
      ]
     },
     "execution_count": 76,
     "metadata": {},
     "output_type": "execute_result"
    }
   ],
   "source": [
    "from scipy.cluster.hierarchy import fcluster\n",
    "fcluster(Z, 5, criterion='maxclust')"
   ]
  },
  {
   "cell_type": "code",
   "execution_count": 77,
   "metadata": {},
   "outputs": [
    {
     "data": {
      "text/plain": [
       "array([1, 1, 1, 1, 2, 1, 1, 2, 1, 2, 2, 2, 2, 1, 2, 2, 2, 2, 1, 2, 2, 1,\n",
       "       1, 2, 2, 1, 2, 1, 2, 2, 2, 2], dtype=int32)"
      ]
     },
     "execution_count": 77,
     "metadata": {},
     "output_type": "execute_result"
    }
   ],
   "source": [
    "from scipy.cluster.hierarchy import fcluster\n",
    "fcluster(Z, 2, criterion='maxclust')"
   ]
  },
  {
   "cell_type": "code",
   "execution_count": 78,
   "metadata": {},
   "outputs": [
    {
     "data": {
      "text/plain": [
       "array([4, 4, 3, 1, 5, 4, 4, 7, 2, 7, 6, 5, 6, 3, 7, 5, 7, 5, 1, 5, 6, 3,\n",
       "       1, 7, 6, 3, 6, 3, 5, 6, 7, 5], dtype=int32)"
      ]
     },
     "execution_count": 78,
     "metadata": {},
     "output_type": "execute_result"
    }
   ],
   "source": [
    "from scipy.cluster.hierarchy import fcluster\n",
    "fcluster(Z, 7, criterion='maxclust')"
   ]
  },
  {
   "cell_type": "code",
   "execution_count": null,
   "metadata": {},
   "outputs": [],
   "source": []
  },
  {
   "cell_type": "code",
   "execution_count": null,
   "metadata": {},
   "outputs": [],
   "source": []
  }
 ],
 "metadata": {
  "anaconda-cloud": {},
  "kernelspec": {
   "display_name": "Python 3",
   "language": "python",
   "name": "python3"
  },
  "language_info": {
   "codemirror_mode": {
    "name": "ipython",
    "version": 3
   },
   "file_extension": ".py",
   "mimetype": "text/x-python",
   "name": "python",
   "nbconvert_exporter": "python",
   "pygments_lexer": "ipython3",
   "version": "3.7.3"
  }
 },
 "nbformat": 4,
 "nbformat_minor": 1
}
