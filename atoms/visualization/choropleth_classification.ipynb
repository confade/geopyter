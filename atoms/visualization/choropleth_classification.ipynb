{
 "cells": [
  {
   "cell_type": "markdown",
   "metadata": {
    "deletable": true,
    "editable": true
   },
   "source": [
    "# Classification for Choropleth Mapping\n",
    "\n",
    "- Level: Novice\n",
    "- Duration: 2 hours\n",
    "- Contributors: Serge Rey (srey@asu.edu); Jon Reades (jonathan.reades@kcl.ac.uk)\n",
    "- Keywords: choropleth; mapping; visualization; pysal; classifiers"
   ]
  },
  {
   "cell_type": "markdown",
   "metadata": {
    "collapsed": true,
    "deletable": true,
    "editable": true
   },
   "source": [
    "## Introduction\n",
    "\n",
    "* what is classification\n",
    "* role in choropleth mapping\n",
    "* explore classification using PySAL"
   ]
  },
  {
   "cell_type": "code",
   "execution_count": 1,
   "metadata": {
    "collapsed": true,
    "deletable": true,
    "editable": true
   },
   "outputs": [],
   "source": [
    "import pysal as ps"
   ]
  },
  {
   "cell_type": "markdown",
   "metadata": {
    "deletable": true,
    "editable": true
   },
   "source": [
    "## Data Set: Mexico State Gross Domestic Product"
   ]
  },
  {
   "cell_type": "code",
   "execution_count": 2,
   "metadata": {
    "collapsed": false,
    "deletable": true,
    "editable": true
   },
   "outputs": [
    {
     "data": {
      "text/plain": [
       "['stl',\n",
       " 'sids2',\n",
       " 'snow_maps',\n",
       " 'south',\n",
       " 'baltim',\n",
       " 'wmat',\n",
       " 'arcgis',\n",
       " 'book',\n",
       " '10740',\n",
       " 'virginia',\n",
       " 'sacramento2',\n",
       " 'calemp',\n",
       " 'chicago',\n",
       " 'burkitt',\n",
       " 'geodanet',\n",
       " 'columbus',\n",
       " 'desmith',\n",
       " 'Polygon_Holes',\n",
       " 'street_net_pts',\n",
       " 'nat',\n",
       " 'juvenile',\n",
       " 'mexico',\n",
       " 'networks',\n",
       " 'Polygon',\n",
       " 'taz',\n",
       " 'nyc_bikes',\n",
       " 'us_income',\n",
       " 'Line',\n",
       " 'Point',\n",
       " 'newHaven']"
      ]
     },
     "execution_count": 2,
     "metadata": {},
     "output_type": "execute_result"
    }
   ],
   "source": [
    "ps.examples.available()"
   ]
  },
  {
   "cell_type": "code",
   "execution_count": 3,
   "metadata": {
    "collapsed": false,
    "deletable": true,
    "editable": true
   },
   "outputs": [
    {
     "data": {
      "text/plain": [
       "{'description': 'Mexican states regional income 1940-2000',\n",
       " 'explanation': ['Data used in   Rey, S.J. and M.L.  Sastre Gutierrez. (2010) \"Interregional inequality',\n",
       "  'dynamics in Mexico.\" Spatial Economic Analysis, 5: 277-298',\n",
       "  '* mexico.csv: attribute data',\n",
       "  '* mexico.gal: spatial weights in GAL format',\n",
       "  'Polygon data, n=32, k=13'],\n",
       " 'name': 'mexico'}"
      ]
     },
     "execution_count": 3,
     "metadata": {},
     "output_type": "execute_result"
    }
   ],
   "source": [
    "ps.examples.explain('mexico')"
   ]
  },
  {
   "cell_type": "code",
   "execution_count": 4,
   "metadata": {
    "collapsed": false,
    "deletable": true,
    "editable": true
   },
   "outputs": [
    {
     "data": {
      "text/plain": [
       "['State',\n",
       " 'pcgdp1940',\n",
       " 'pcgdp1950',\n",
       " 'pcgdp1960',\n",
       " 'pcgdp1970',\n",
       " 'pcgdp1980',\n",
       " 'pcgdp1990',\n",
       " 'pcgdp2000',\n",
       " 'hanson03',\n",
       " 'hanson98',\n",
       " 'esquivel99',\n",
       " 'inegi',\n",
       " 'inegi2']"
      ]
     },
     "execution_count": 4,
     "metadata": {},
     "output_type": "execute_result"
    }
   ],
   "source": [
    "f = ps.open(ps.examples.get_path('mexico.csv'))\n",
    "f.header"
   ]
  },
  {
   "cell_type": "code",
   "execution_count": 5,
   "metadata": {
    "collapsed": true,
    "deletable": true,
    "editable": true
   },
   "outputs": [],
   "source": [
    "y = f.by_col_array('pcgdp2000')"
   ]
  },
  {
   "cell_type": "code",
   "execution_count": 6,
   "metadata": {
    "collapsed": false,
    "deletable": true,
    "editable": true
   },
   "outputs": [
    {
     "data": {
      "text/plain": [
       "array([[ 27782.],\n",
       "       [ 29855.],\n",
       "       [ 26103.],\n",
       "       [ 36163.],\n",
       "       [  8684.],\n",
       "       [ 30735.],\n",
       "       [ 28460.],\n",
       "       [ 21358.],\n",
       "       [ 54349.],\n",
       "       [ 17379.],\n",
       "       [ 15585.],\n",
       "       [ 11820.],\n",
       "       [ 12348.],\n",
       "       [ 21610.],\n",
       "       [ 16322.],\n",
       "       [ 11838.],\n",
       "       [ 18170.],\n",
       "       [ 11478.],\n",
       "       [ 38672.],\n",
       "       [  9010.],\n",
       "       [ 15685.],\n",
       "       [ 26149.],\n",
       "       [ 33442.],\n",
       "       [ 15866.],\n",
       "       [ 15242.],\n",
       "       [ 24068.],\n",
       "       [ 13360.],\n",
       "       [ 23546.],\n",
       "       [ 11701.],\n",
       "       [ 12191.],\n",
       "       [ 17509.],\n",
       "       [ 11130.]])"
      ]
     },
     "execution_count": 6,
     "metadata": {},
     "output_type": "execute_result"
    }
   ],
   "source": [
    "y"
   ]
  },
  {
   "cell_type": "markdown",
   "metadata": {
    "deletable": true,
    "editable": true
   },
   "source": [
    "### Numerical summaries"
   ]
  },
  {
   "cell_type": "markdown",
   "metadata": {
    "deletable": true,
    "editable": true
   },
   "source": [
    "#### Sample Mean\n",
    "\n",
    "$\\bar{y} = \\sum_{i=1}^n y_i$"
   ]
  },
  {
   "cell_type": "code",
   "execution_count": 7,
   "metadata": {
    "collapsed": false,
    "deletable": true,
    "editable": true
   },
   "outputs": [
    {
     "data": {
      "text/plain": [
       "20862.8125"
      ]
     },
     "execution_count": 7,
     "metadata": {},
     "output_type": "execute_result"
    }
   ],
   "source": [
    "y_mean = y.mean()\n",
    "y_mean"
   ]
  },
  {
   "cell_type": "markdown",
   "metadata": {
    "deletable": true,
    "editable": true
   },
   "source": [
    "#### Sample Standard Deviation\n",
    "\n",
    "$\\hat{\\sigma} = \\sqrt{\\frac{\\sum_{i=1}^n (y_i-\\bar{y})^2}{n-1}}$"
   ]
  },
  {
   "cell_type": "code",
   "execution_count": 8,
   "metadata": {
    "collapsed": false,
    "deletable": true,
    "editable": true
   },
   "outputs": [
    {
     "data": {
      "text/plain": [
       "10114.446813338027"
      ]
     },
     "execution_count": 8,
     "metadata": {},
     "output_type": "execute_result"
    }
   ],
   "source": [
    "y_std = y.std()\n",
    "y_std"
   ]
  },
  {
   "cell_type": "markdown",
   "metadata": {
    "deletable": true,
    "editable": true
   },
   "source": [
    "#### Median"
   ]
  },
  {
   "cell_type": "code",
   "execution_count": 9,
   "metadata": {
    "collapsed": false,
    "deletable": true,
    "editable": true
   },
   "outputs": [
    {
     "data": {
      "text/plain": [
       "17444.0"
      ]
     },
     "execution_count": 9,
     "metadata": {},
     "output_type": "execute_result"
    }
   ],
   "source": [
    "import numpy as np\n",
    "y_median = np.median(y)\n",
    "y_median"
   ]
  },
  {
   "cell_type": "code",
   "execution_count": 10,
   "metadata": {
    "collapsed": false,
    "deletable": true,
    "editable": true
   },
   "outputs": [
    {
     "data": {
      "text/plain": [
       "18"
      ]
     },
     "execution_count": 10,
     "metadata": {},
     "output_type": "execute_result"
    }
   ],
   "source": [
    "(y < y_mean).sum()"
   ]
  },
  {
   "cell_type": "code",
   "execution_count": 11,
   "metadata": {
    "collapsed": false,
    "deletable": true,
    "editable": true
   },
   "outputs": [
    {
     "data": {
      "text/plain": [
       "14"
      ]
     },
     "execution_count": 11,
     "metadata": {},
     "output_type": "execute_result"
    }
   ],
   "source": [
    "(y > y_mean).sum()"
   ]
  },
  {
   "cell_type": "code",
   "execution_count": 12,
   "metadata": {
    "collapsed": false,
    "deletable": true,
    "editable": true
   },
   "outputs": [
    {
     "data": {
      "text/plain": [
       "array([[  8684.],\n",
       "       [  9010.],\n",
       "       [ 11130.],\n",
       "       [ 11478.],\n",
       "       [ 11701.],\n",
       "       [ 11820.],\n",
       "       [ 11838.],\n",
       "       [ 12191.],\n",
       "       [ 12348.],\n",
       "       [ 13360.],\n",
       "       [ 15242.],\n",
       "       [ 15585.],\n",
       "       [ 15685.],\n",
       "       [ 15866.],\n",
       "       [ 16322.],\n",
       "       [ 17379.],\n",
       "       [ 17509.],\n",
       "       [ 18170.],\n",
       "       [ 21358.],\n",
       "       [ 21610.],\n",
       "       [ 23546.],\n",
       "       [ 24068.],\n",
       "       [ 26103.],\n",
       "       [ 26149.],\n",
       "       [ 27782.],\n",
       "       [ 28460.],\n",
       "       [ 29855.],\n",
       "       [ 30735.],\n",
       "       [ 33442.],\n",
       "       [ 36163.],\n",
       "       [ 38672.],\n",
       "       [ 54349.]])"
      ]
     },
     "execution_count": 12,
     "metadata": {},
     "output_type": "execute_result"
    }
   ],
   "source": [
    "y_sorted = np.sort(y, axis=0)\n",
    "y_sorted"
   ]
  },
  {
   "cell_type": "code",
   "execution_count": 13,
   "metadata": {
    "collapsed": false,
    "deletable": true,
    "editable": true
   },
   "outputs": [
    {
     "data": {
      "text/plain": [
       "array([ 17379.])"
      ]
     },
     "execution_count": 13,
     "metadata": {},
     "output_type": "execute_result"
    }
   ],
   "source": [
    "y_sorted[15]"
   ]
  },
  {
   "cell_type": "code",
   "execution_count": 14,
   "metadata": {
    "collapsed": false,
    "deletable": true,
    "editable": true
   },
   "outputs": [
    {
     "data": {
      "text/plain": [
       "array([ 17509.])"
      ]
     },
     "execution_count": 14,
     "metadata": {},
     "output_type": "execute_result"
    }
   ],
   "source": [
    "y_sorted[16]"
   ]
  },
  {
   "cell_type": "code",
   "execution_count": 15,
   "metadata": {
    "collapsed": false,
    "deletable": true,
    "editable": true
   },
   "outputs": [
    {
     "data": {
      "text/plain": [
       "array([ 17444.])"
      ]
     },
     "execution_count": 15,
     "metadata": {},
     "output_type": "execute_result"
    }
   ],
   "source": [
    "(y_sorted[15]+y_sorted[16])/2."
   ]
  },
  {
   "cell_type": "markdown",
   "metadata": {
    "deletable": true,
    "editable": true
   },
   "source": [
    "### Univariate Distribution Visualization"
   ]
  },
  {
   "cell_type": "code",
   "execution_count": 16,
   "metadata": {
    "collapsed": false,
    "deletable": true,
    "editable": true
   },
   "outputs": [
    {
     "name": "stdout",
     "output_type": "stream",
     "text": [
      "Populating the interactive namespace from numpy and matplotlib\n"
     ]
    },
    {
     "name": "stderr",
     "output_type": "stream",
     "text": [
      "/home/serge/anaconda2/lib/python2.7/site-packages/IPython/core/magics/pylab.py:161: UserWarning: pylab import has clobbered these variables: ['f']\n",
      "`%matplotlib` prevents importing * from pylab and numpy\n",
      "  \"\\n`%matplotlib` prevents importing * from pylab and numpy\"\n"
     ]
    },
    {
     "data": {
      "text/plain": [
       "<matplotlib.axes._subplots.AxesSubplot at 0x7f159c0932d0>"
      ]
     },
     "execution_count": 16,
     "metadata": {},
     "output_type": "execute_result"
    },
    {
     "data": {
      "image/png": "[encoded data removed]",
      "text/plain": [
       "<matplotlib.figure.Figure at 0x7f15a0f22a10>"
      ]
     },
     "metadata": {},
     "output_type": "display_data"
    }
   ],
   "source": [
    "%pylab inline\n",
    "import seaborn as sns\n",
    "sns.distplot(y)"
   ]
  },
  {
   "cell_type": "code",
   "execution_count": 17,
   "metadata": {
    "collapsed": false,
    "deletable": true,
    "editable": true
   },
   "outputs": [
    {
     "data": {
      "text/plain": [
       "<matplotlib.axes._subplots.AxesSubplot at 0x7f159c03a590>"
      ]
     },
     "execution_count": 17,
     "metadata": {},
     "output_type": "execute_result"
    },
    {
     "data": {
      "image/png": "[encoded data removed]",
      "text/plain": [
       "<matplotlib.figure.Figure at 0x7f159b9bab50>"
      ]
     },
     "metadata": {},
     "output_type": "display_data"
    }
   ],
   "source": [
    "sns.distplot(y, kde=False, rug=True)"
   ]
  },
  {
   "cell_type": "code",
   "execution_count": 18,
   "metadata": {
    "collapsed": false,
    "deletable": true,
    "editable": true
   },
   "outputs": [
    {
     "data": {
      "text/plain": [
       "<matplotlib.axes._subplots.AxesSubplot at 0x7f159b998650>"
      ]
     },
     "execution_count": 18,
     "metadata": {},
     "output_type": "execute_result"
    },
    {
     "data": {
      "image/png": "[encoded data removed]",
      "text/plain": [
       "<matplotlib.figure.Figure at 0x7f159b9ad190>"
      ]
     },
     "metadata": {},
     "output_type": "display_data"
    }
   ],
   "source": [
    "sns.distplot(y, bins=5, kde=False, rug=True)"
   ]
  },
  {
   "cell_type": "code",
   "execution_count": 19,
   "metadata": {
    "collapsed": false,
    "deletable": true,
    "editable": true
   },
   "outputs": [
    {
     "data": {
      "text/plain": [
       "<matplotlib.axes._subplots.AxesSubplot at 0x7f159b947290>"
      ]
     },
     "execution_count": 19,
     "metadata": {},
     "output_type": "execute_result"
    },
    {
     "data": {
      "image/png": "[encoded data removed]",
      "text/plain": [
       "<matplotlib.figure.Figure at 0x7f159b822e90>"
      ]
     },
     "metadata": {},
     "output_type": "display_data"
    }
   ],
   "source": [
    "sns.distplot(y, hist=False,  rug=True)"
   ]
  },
  {
   "cell_type": "markdown",
   "metadata": {
    "deletable": true,
    "editable": true
   },
   "source": [
    "## PySAL Classifiers"
   ]
  },
  {
   "cell_type": "markdown",
   "metadata": {
    "deletable": true,
    "editable": true
   },
   "source": [
    "### Quantiles"
   ]
  },
  {
   "cell_type": "code",
   "execution_count": 20,
   "metadata": {
    "collapsed": true,
    "deletable": true,
    "editable": true
   },
   "outputs": [],
   "source": [
    "q5 = ps.Quantiles(y)"
   ]
  },
  {
   "cell_type": "code",
   "execution_count": 21,
   "metadata": {
    "collapsed": false,
    "deletable": true,
    "editable": true
   },
   "outputs": [
    {
     "data": {
      "text/plain": [
       "                  Quantiles                  \n",
       " \n",
       "  Lower              Upper              Count\n",
       "=============================================\n",
       "            x[i] <= 11908.600               7\n",
       "11908.600 < x[i] <= 15757.400               6\n",
       "15757.400 < x[i] <= 21509.200               6\n",
       "21509.200 < x[i] <= 28324.400               6\n",
       "28324.400 < x[i] <= 54349.000               7"
      ]
     },
     "execution_count": 21,
     "metadata": {},
     "output_type": "execute_result"
    }
   ],
   "source": [
    "q5"
   ]
  },
  {
   "cell_type": "code",
   "execution_count": 22,
   "metadata": {
    "collapsed": false,
    "deletable": true,
    "editable": true
   },
   "outputs": [
    {
     "data": {
      "text/plain": [
       "['__call__',\n",
       " '__class__',\n",
       " '__delattr__',\n",
       " '__dict__',\n",
       " '__doc__',\n",
       " '__format__',\n",
       " '__getattribute__',\n",
       " '__hash__',\n",
       " '__init__',\n",
       " '__module__',\n",
       " '__new__',\n",
       " '__reduce__',\n",
       " '__reduce_ex__',\n",
       " '__repr__',\n",
       " '__setattr__',\n",
       " '__sizeof__',\n",
       " '__str__',\n",
       " '__subclasshook__',\n",
       " '__weakref__',\n",
       " '_classify',\n",
       " '_set_bins',\n",
       " '_summary',\n",
       " '_table_string',\n",
       " '_update',\n",
       " 'adcm',\n",
       " 'bins',\n",
       " 'classes',\n",
       " 'counts',\n",
       " 'find_bin',\n",
       " 'gadf',\n",
       " 'get_adcm',\n",
       " 'get_gadf',\n",
       " 'get_tss',\n",
       " 'k',\n",
       " 'make',\n",
       " 'name',\n",
       " 'tss',\n",
       " 'update',\n",
       " 'y',\n",
       " 'yb']"
      ]
     },
     "execution_count": 22,
     "metadata": {},
     "output_type": "execute_result"
    }
   ],
   "source": [
    "dir(q5)"
   ]
  },
  {
   "cell_type": "code",
   "execution_count": 23,
   "metadata": {
    "collapsed": false,
    "deletable": true,
    "editable": true
   },
   "outputs": [
    {
     "data": {
      "text/plain": [
       "array([3, 4, 3, 4, 0, 4, 4, 2, 4, 2, 1, 0, 1, 3, 2, 0, 2, 0, 4, 0, 1, 3, 4,\n",
       "       2, 1, 3, 1, 3, 0, 1, 2, 0])"
      ]
     },
     "execution_count": 23,
     "metadata": {},
     "output_type": "execute_result"
    }
   ],
   "source": [
    "q5.yb"
   ]
  },
  {
   "cell_type": "code",
   "execution_count": 24,
   "metadata": {
    "collapsed": false,
    "deletable": true,
    "editable": true
   },
   "outputs": [
    {
     "data": {
      "text/plain": [
       "73562.0"
      ]
     },
     "execution_count": 24,
     "metadata": {},
     "output_type": "execute_result"
    }
   ],
   "source": [
    "q5.adcm"
   ]
  },
  {
   "cell_type": "code",
   "execution_count": 25,
   "metadata": {
    "collapsed": false,
    "deletable": true,
    "editable": true
   },
   "outputs": [
    {
     "data": {
      "text/plain": [
       "                  Quantiles                  \n",
       " \n",
       "  Lower              Upper              Count\n",
       "=============================================\n",
       "            x[i] <= 12308.750               8\n",
       "12308.750 < x[i] <= 17444.000               8\n",
       "17444.000 < x[i] <= 26557.250               8\n",
       "26557.250 < x[i] <= 54349.000               8"
      ]
     },
     "execution_count": 25,
     "metadata": {},
     "output_type": "execute_result"
    }
   ],
   "source": [
    "q4 = ps.Quantiles(y, k=4)\n",
    "q4"
   ]
  },
  {
   "cell_type": "markdown",
   "metadata": {
    "deletable": true,
    "editable": true
   },
   "source": [
    "### Equal Interval"
   ]
  },
  {
   "cell_type": "code",
   "execution_count": 26,
   "metadata": {
    "collapsed": false,
    "deletable": true,
    "editable": true
   },
   "outputs": [
    {
     "data": {
      "text/plain": [
       "                Equal Interval                \n",
       " \n",
       "  Lower              Upper               Count\n",
       "==============================================\n",
       "            x[i] <= 17817.000               17\n",
       "17817.000 < x[i] <= 26950.000                7\n",
       "26950.000 < x[i] <= 36083.000                5\n",
       "36083.000 < x[i] <= 45216.000                2\n",
       "45216.000 < x[i] <= 54349.000                1"
      ]
     },
     "execution_count": 26,
     "metadata": {},
     "output_type": "execute_result"
    }
   ],
   "source": [
    "ei = ps.Equal_Interval(y, k=5)\n",
    "ei"
   ]
  },
  {
   "cell_type": "markdown",
   "metadata": {
    "deletable": true,
    "editable": true
   },
   "source": [
    "### Maximum Breaks"
   ]
  },
  {
   "cell_type": "code",
   "execution_count": 27,
   "metadata": {
    "collapsed": false,
    "deletable": true,
    "editable": true
   },
   "outputs": [
    {
     "data": {
      "text/plain": [
       "                Maximum_Breaks                \n",
       " \n",
       "  Lower              Upper               Count\n",
       "==============================================\n",
       "            x[i] <= 19764.000               18\n",
       "19764.000 < x[i] <= 32088.500               10\n",
       "32088.500 < x[i] <= 34802.500                1\n",
       "34802.500 < x[i] <= 46510.500                2\n",
       "46510.500 < x[i] <= 54349.000                1"
      ]
     },
     "execution_count": 27,
     "metadata": {},
     "output_type": "execute_result"
    }
   ],
   "source": [
    "mb = ps.Maximum_Breaks(y, k=5)\n",
    "mb"
   ]
  },
  {
   "cell_type": "markdown",
   "metadata": {
    "deletable": true,
    "editable": true
   },
   "source": [
    "### Box Plot"
   ]
  },
  {
   "cell_type": "code",
   "execution_count": 28,
   "metadata": {
    "collapsed": false,
    "deletable": true,
    "editable": true
   },
   "outputs": [
    {
     "data": {
      "text/plain": [
       "                   Box Plot                  \n",
       " \n",
       "  Lower              Upper              Count\n",
       "=============================================\n",
       "            x[i] <= -9064.000               0\n",
       "-9064.000 < x[i] <= 12308.750               8\n",
       "12308.750 < x[i] <= 17444.000               8\n",
       "17444.000 < x[i] <= 26557.250               8\n",
       "26557.250 < x[i] <= 47930.000               7\n",
       "47930.000 < x[i] <= 54349.000               1"
      ]
     },
     "execution_count": 28,
     "metadata": {},
     "output_type": "execute_result"
    }
   ],
   "source": [
    "bp = ps.Box_Plot(y)\n",
    "bp"
   ]
  },
  {
   "cell_type": "markdown",
   "metadata": {
    "deletable": true,
    "editable": true
   },
   "source": [
    "### Standard Deviation"
   ]
  },
  {
   "cell_type": "code",
   "execution_count": 29,
   "metadata": {
    "collapsed": false,
    "deletable": true,
    "editable": true
   },
   "outputs": [
    {
     "data": {
      "text/plain": [
       "                   Std_Mean                   \n",
       " \n",
       "  Lower              Upper               Count\n",
       "==============================================\n",
       "            x[i] <=   310.236                0\n",
       "  310.236 < x[i] <= 10586.524                2\n",
       "10586.524 < x[i] <= 31139.101               26\n",
       "31139.101 < x[i] <= 41415.389                3\n",
       "41415.389 < x[i] <= 54349.000                1"
      ]
     },
     "execution_count": 29,
     "metadata": {},
     "output_type": "execute_result"
    }
   ],
   "source": [
    "sd = ps.Std_Mean(y)\n",
    "sd"
   ]
  },
  {
   "cell_type": "markdown",
   "metadata": {
    "deletable": true,
    "editable": true
   },
   "source": [
    "### Head Tail"
   ]
  },
  {
   "cell_type": "code",
   "execution_count": 30,
   "metadata": {
    "collapsed": false,
    "deletable": true,
    "editable": true
   },
   "outputs": [
    {
     "data": {
      "text/plain": [
       "               HeadTail_Breaks                \n",
       " \n",
       "  Lower              Upper               Count\n",
       "==============================================\n",
       "            x[i] <= 20862.812               18\n",
       "20862.812 < x[i] <= 30163.714                9\n",
       "30163.714 < x[i] <= 38672.200                4\n",
       "38672.200 < x[i] <= 54349.000                1"
      ]
     },
     "execution_count": 30,
     "metadata": {},
     "output_type": "execute_result"
    }
   ],
   "source": [
    "ht = ps.esda.mapclassify.HeadTail_Breaks(y) # need to change import structure\n",
    "ht"
   ]
  },
  {
   "cell_type": "markdown",
   "metadata": {
    "deletable": true,
    "editable": true
   },
   "source": [
    "### Jenks Caspall"
   ]
  },
  {
   "cell_type": "code",
   "execution_count": 31,
   "metadata": {
    "collapsed": false,
    "deletable": true,
    "editable": true
   },
   "outputs": [
    {
     "data": {
      "text/plain": [
       "                Jenks_Caspall                 \n",
       " \n",
       "  Lower              Upper               Count\n",
       "==============================================\n",
       "            x[i] <= 13360.000               10\n",
       "13360.000 < x[i] <= 16322.000                5\n",
       "16322.000 < x[i] <= 21610.000                5\n",
       "21610.000 < x[i] <= 30735.000                8\n",
       "30735.000 < x[i] <= 54349.000                4"
      ]
     },
     "execution_count": 31,
     "metadata": {},
     "output_type": "execute_result"
    }
   ],
   "source": [
    "import numpy as np\n",
    "np.random.seed(12345)\n",
    "jc = ps.Jenks_Caspall(y)\n",
    "jc"
   ]
  },
  {
   "cell_type": "code",
   "execution_count": 32,
   "metadata": {
    "collapsed": false,
    "deletable": true,
    "editable": true
   },
   "outputs": [
    {
     "data": {
      "text/plain": [
       "             Jenks_Caspall_Forced            \n",
       " \n",
       "  Lower              Upper              Count\n",
       "=============================================\n",
       "            x[i] <= 11838.000               7\n",
       "11838.000 < x[i] <= 15685.000               6\n",
       "15685.000 < x[i] <= 21358.000               6\n",
       "21358.000 < x[i] <= 29855.000               8\n",
       "29855.000 < x[i] <= 54349.000               5"
      ]
     },
     "execution_count": 32,
     "metadata": {},
     "output_type": "execute_result"
    }
   ],
   "source": [
    "jcf = ps.Jenks_Caspall_Forced(y)\n",
    "jcf"
   ]
  },
  {
   "cell_type": "markdown",
   "metadata": {
    "deletable": true,
    "editable": true
   },
   "source": [
    "### Fisher Jenks"
   ]
  },
  {
   "cell_type": "code",
   "execution_count": 33,
   "metadata": {
    "collapsed": false,
    "deletable": true,
    "editable": true
   },
   "outputs": [
    {
     "data": {
      "text/plain": [
       "                 Fisher_Jenks                 \n",
       " \n",
       "  Lower              Upper               Count\n",
       "==============================================\n",
       "            x[i] <= 13360.000               10\n",
       "13360.000 < x[i] <= 21610.000               10\n",
       "21610.000 < x[i] <= 30735.000                8\n",
       "30735.000 < x[i] <= 38672.000                3\n",
       "38672.000 < x[i] <= 54349.000                1"
      ]
     },
     "execution_count": 33,
     "metadata": {},
     "output_type": "execute_result"
    }
   ],
   "source": [
    "fj = ps.Fisher_Jenks(y, k=5)\n",
    "fj"
   ]
  },
  {
   "cell_type": "markdown",
   "metadata": {
    "deletable": true,
    "editable": true
   },
   "source": [
    "### max-p"
   ]
  },
  {
   "cell_type": "code",
   "execution_count": 34,
   "metadata": {
    "collapsed": false,
    "deletable": true,
    "editable": true
   },
   "outputs": [
    {
     "data": {
      "text/plain": [
       "                    Max_P                    \n",
       " \n",
       "  Lower              Upper              Count\n",
       "=============================================\n",
       "            x[i] <= 12348.000               9\n",
       "12348.000 < x[i] <= 18170.000               9\n",
       "18170.000 < x[i] <= 21358.000               1\n",
       "21358.000 < x[i] <= 28460.000               7\n",
       "28460.000 < x[i] <= 54349.000               6"
      ]
     },
     "execution_count": 34,
     "metadata": {},
     "output_type": "execute_result"
    }
   ],
   "source": [
    "mp = ps.esda.mapclassify.Max_P_Classifier(y, k=5)\n",
    "mp"
   ]
  },
  {
   "cell_type": "markdown",
   "metadata": {
    "deletable": true,
    "editable": true
   },
   "source": [
    "### Fit"
   ]
  },
  {
   "cell_type": "code",
   "execution_count": 35,
   "metadata": {
    "collapsed": false,
    "deletable": true,
    "editable": true
   },
   "outputs": [
    {
     "data": {
      "text/plain": [
       "65722.0"
      ]
     },
     "execution_count": 35,
     "metadata": {},
     "output_type": "execute_result"
    }
   ],
   "source": [
    "mp.adcm"
   ]
  },
  {
   "cell_type": "code",
   "execution_count": 36,
   "metadata": {
    "collapsed": false,
    "deletable": true,
    "editable": true
   },
   "outputs": [
    {
     "data": {
      "text/plain": [
       "49076.0"
      ]
     },
     "execution_count": 36,
     "metadata": {},
     "output_type": "execute_result"
    }
   ],
   "source": [
    "fj.adcm"
   ]
  },
  {
   "cell_type": "code",
   "execution_count": 37,
   "metadata": {
    "collapsed": false,
    "deletable": true,
    "editable": true
   },
   "outputs": [
    {
     "data": {
      "text/plain": [
       "73562.0"
      ]
     },
     "execution_count": 37,
     "metadata": {},
     "output_type": "execute_result"
    }
   ],
   "source": [
    "q5.adcm"
   ]
  },
  {
   "cell_type": "code",
   "execution_count": 38,
   "metadata": {
    "collapsed": false,
    "deletable": true,
    "editable": true
   },
   "outputs": [
    {
     "data": {
      "text/plain": [
       "68381.0"
      ]
     },
     "execution_count": 38,
     "metadata": {},
     "output_type": "execute_result"
    }
   ],
   "source": [
    "jcf.adcm"
   ]
  },
  {
   "cell_type": "code",
   "execution_count": 39,
   "metadata": {
    "collapsed": false,
    "deletable": true,
    "editable": true
   },
   "outputs": [
    {
     "data": {
      "text/plain": [
       "73723.0"
      ]
     },
     "execution_count": 39,
     "metadata": {},
     "output_type": "execute_result"
    }
   ],
   "source": [
    "mb.adcm"
   ]
  },
  {
   "cell_type": "code",
   "execution_count": 40,
   "metadata": {
    "collapsed": false,
    "deletable": true,
    "editable": true
   },
   "outputs": [
    {
     "data": {
      "text/plain": [
       "82978.0"
      ]
     },
     "execution_count": 40,
     "metadata": {},
     "output_type": "execute_result"
    }
   ],
   "source": [
    "q4.adcm"
   ]
  },
  {
   "cell_type": "code",
   "execution_count": 41,
   "metadata": {
    "collapsed": true,
    "deletable": true,
    "editable": true
   },
   "outputs": [],
   "source": [
    "res = [mp, fj, q5, jcf, mb, sd, bp, ht]"
   ]
  },
  {
   "cell_type": "code",
   "execution_count": 42,
   "metadata": {
    "collapsed": true,
    "deletable": true,
    "editable": true
   },
   "outputs": [],
   "source": [
    "adcms = [m.adcm for m in res]"
   ]
  },
  {
   "cell_type": "code",
   "execution_count": 43,
   "metadata": {
    "collapsed": false,
    "deletable": true,
    "editable": true
   },
   "outputs": [
    {
     "data": {
      "text/plain": [
       "[65722.0, 49076.0, 73562.0, 68381.0, 73723.0, 143714.0, 37184.0, 77240.0]"
      ]
     },
     "execution_count": 43,
     "metadata": {},
     "output_type": "execute_result"
    }
   ],
   "source": [
    "adcms"
   ]
  },
  {
   "cell_type": "code",
   "execution_count": 44,
   "metadata": {
    "collapsed": false,
    "deletable": true,
    "editable": true
   },
   "outputs": [
    {
     "data": {
      "text/plain": [
       "4"
      ]
     },
     "execution_count": 44,
     "metadata": {},
     "output_type": "execute_result"
    }
   ],
   "source": [
    "bp.k"
   ]
  },
  {
   "cell_type": "code",
   "execution_count": 45,
   "metadata": {
    "collapsed": false,
    "deletable": true,
    "editable": true
   },
   "outputs": [
    {
     "data": {
      "text/plain": [
       "5"
      ]
     },
     "execution_count": 45,
     "metadata": {},
     "output_type": "execute_result"
    }
   ],
   "source": [
    "mp.k"
   ]
  },
  {
   "cell_type": "markdown",
   "metadata": {
    "deletable": true,
    "editable": true
   },
   "source": [
    "## Consensus classification"
   ]
  },
  {
   "cell_type": "code",
   "execution_count": 46,
   "metadata": {
    "collapsed": false,
    "deletable": true,
    "editable": true
   },
   "outputs": [
    {
     "data": {
      "text/plain": [
       "array([[3, 2, 3, 3, 1, 2, 4, 1],\n",
       "       [4, 2, 4, 3, 1, 2, 4, 1],\n",
       "       [3, 2, 3, 3, 1, 2, 3, 1],\n",
       "       [4, 3, 4, 4, 3, 3, 4, 2],\n",
       "       [0, 0, 0, 0, 0, 1, 1, 0],\n",
       "       [4, 2, 4, 4, 1, 2, 4, 2],\n",
       "       [3, 2, 4, 3, 1, 2, 4, 1],\n",
       "       [2, 1, 2, 2, 1, 2, 3, 1],\n",
       "       [4, 4, 4, 4, 4, 4, 5, 3],\n",
       "       [1, 1, 2, 2, 0, 2, 2, 0],\n",
       "       [1, 1, 1, 1, 0, 2, 2, 0],\n",
       "       [0, 0, 0, 0, 0, 2, 1, 0],\n",
       "       [0, 0, 1, 1, 0, 2, 2, 0],\n",
       "       [3, 1, 3, 3, 1, 2, 3, 1],\n",
       "       [1, 1, 2, 2, 0, 2, 2, 0],\n",
       "       [0, 0, 0, 0, 0, 2, 1, 0],\n",
       "       [1, 1, 2, 2, 0, 2, 3, 0],\n",
       "       [0, 0, 0, 0, 0, 2, 1, 0],\n",
       "       [4, 3, 4, 4, 3, 3, 4, 2],\n",
       "       [0, 0, 0, 0, 0, 1, 1, 0],\n",
       "       [1, 1, 1, 1, 0, 2, 2, 0],\n",
       "       [3, 2, 3, 3, 1, 2, 3, 1],\n",
       "       [4, 3, 4, 4, 2, 3, 4, 2],\n",
       "       [1, 1, 2, 2, 0, 2, 2, 0],\n",
       "       [1, 1, 1, 1, 0, 2, 2, 0],\n",
       "       [3, 2, 3, 3, 1, 2, 3, 1],\n",
       "       [1, 0, 1, 1, 0, 2, 2, 0],\n",
       "       [3, 2, 3, 3, 1, 2, 3, 1],\n",
       "       [0, 0, 0, 0, 0, 2, 1, 0],\n",
       "       [0, 0, 1, 1, 0, 2, 1, 0],\n",
       "       [1, 1, 2, 2, 0, 2, 3, 0],\n",
       "       [0, 0, 0, 0, 0, 2, 1, 0]])"
      ]
     },
     "execution_count": 46,
     "metadata": {},
     "output_type": "execute_result"
    }
   ],
   "source": [
    "ybs = np.array([m.yb for m in res])\n",
    "ybs.T"
   ]
  },
  {
   "cell_type": "code",
   "execution_count": 47,
   "metadata": {
    "collapsed": true,
    "deletable": true,
    "editable": true
   },
   "outputs": [],
   "source": [
    "from sklearn.cluster import KMeans "
   ]
  },
  {
   "cell_type": "code",
   "execution_count": 48,
   "metadata": {
    "collapsed": true,
    "deletable": true,
    "editable": true
   },
   "outputs": [],
   "source": [
    "km = KMeans(n_clusters=5)"
   ]
  },
  {
   "cell_type": "code",
   "execution_count": 49,
   "metadata": {
    "collapsed": false,
    "deletable": true,
    "editable": true
   },
   "outputs": [
    {
     "data": {
      "text/plain": [
       "KMeans(copy_x=True, init='k-means++', max_iter=300, n_clusters=5, n_init=10,\n",
       "    n_jobs=1, precompute_distances='auto', random_state=None, tol=0.0001,\n",
       "    verbose=0)"
      ]
     },
     "execution_count": 49,
     "metadata": {},
     "output_type": "execute_result"
    }
   ],
   "source": [
    "km.fit(ybs.T)"
   ]
  },
  {
   "cell_type": "code",
   "execution_count": 50,
   "metadata": {
    "collapsed": false,
    "deletable": true,
    "editable": true
   },
   "outputs": [
    {
     "data": {
      "text/plain": [
       "array([1, 1, 1, 2, 4, 1, 1, 3, 2, 3, 0, 4, 0, 1, 3, 4, 3, 4, 2, 4, 0, 1, 2,\n",
       "       3, 0, 1, 0, 1, 4, 0, 3, 4], dtype=int32)"
      ]
     },
     "execution_count": 50,
     "metadata": {},
     "output_type": "execute_result"
    }
   ],
   "source": [
    "km.labels_"
   ]
  },
  {
   "cell_type": "code",
   "execution_count": 51,
   "metadata": {
    "collapsed": false,
    "deletable": true,
    "editable": true
   },
   "outputs": [
    {
     "data": {
      "text/plain": [
       "array([[ 27782.],\n",
       "       [ 29855.],\n",
       "       [ 26103.],\n",
       "       [ 36163.],\n",
       "       [  8684.],\n",
       "       [ 30735.],\n",
       "       [ 28460.],\n",
       "       [ 21358.],\n",
       "       [ 54349.],\n",
       "       [ 17379.],\n",
       "       [ 15585.],\n",
       "       [ 11820.],\n",
       "       [ 12348.],\n",
       "       [ 21610.],\n",
       "       [ 16322.],\n",
       "       [ 11838.],\n",
       "       [ 18170.],\n",
       "       [ 11478.],\n",
       "       [ 38672.],\n",
       "       [  9010.],\n",
       "       [ 15685.],\n",
       "       [ 26149.],\n",
       "       [ 33442.],\n",
       "       [ 15866.],\n",
       "       [ 15242.],\n",
       "       [ 24068.],\n",
       "       [ 13360.],\n",
       "       [ 23546.],\n",
       "       [ 11701.],\n",
       "       [ 12191.],\n",
       "       [ 17509.],\n",
       "       [ 11130.]])"
      ]
     },
     "execution_count": 51,
     "metadata": {},
     "output_type": "execute_result"
    }
   ],
   "source": [
    "y"
   ]
  },
  {
   "cell_type": "code",
   "execution_count": 52,
   "metadata": {
    "collapsed": false,
    "deletable": true,
    "editable": true
   },
   "outputs": [
    {
     "data": {
      "text/plain": [
       "array([[  8684.],\n",
       "       [ 11820.],\n",
       "       [ 11838.],\n",
       "       [ 11478.],\n",
       "       [  9010.],\n",
       "       [ 11701.],\n",
       "       [ 11130.]])"
      ]
     },
     "execution_count": 52,
     "metadata": {},
     "output_type": "execute_result"
    }
   ],
   "source": [
    "y[km.labels_==4]"
   ]
  },
  {
   "cell_type": "code",
   "execution_count": 53,
   "metadata": {
    "collapsed": false,
    "deletable": true,
    "editable": true
   },
   "outputs": [
    {
     "name": "stdout",
     "output_type": "stream",
     "text": [
      "[[ 15585.]\n",
      " [ 12348.]\n",
      " [ 15685.]\n",
      " [ 15242.]\n",
      " [ 13360.]\n",
      " [ 12191.]]\n",
      "(12191.0, 15685.0)\n",
      "[[ 27782.]\n",
      " [ 29855.]\n",
      " [ 26103.]\n",
      " [ 30735.]\n",
      " [ 28460.]\n",
      " [ 21610.]\n",
      " [ 26149.]\n",
      " [ 24068.]\n",
      " [ 23546.]]\n",
      "(21610.0, 30735.0)\n",
      "[[ 36163.]\n",
      " [ 54349.]\n",
      " [ 38672.]\n",
      " [ 33442.]]\n",
      "(33442.0, 54349.0)\n",
      "[[ 21358.]\n",
      " [ 17379.]\n",
      " [ 16322.]\n",
      " [ 18170.]\n",
      " [ 15866.]\n",
      " [ 17509.]]\n",
      "(15866.0, 21358.0)\n",
      "[[  8684.]\n",
      " [ 11820.]\n",
      " [ 11838.]\n",
      " [ 11478.]\n",
      " [  9010.]\n",
      " [ 11701.]\n",
      " [ 11130.]]\n",
      "(8684.0, 11838.0)\n"
     ]
    }
   ],
   "source": [
    "cc = []\n",
    "for c in range(5):\n",
    "    cl = km.labels_==c\n",
    "    yc = y[cl]\n",
    "    print(yc)\n",
    "    print(yc.min(), yc.max())\n",
    "    cc.append(yc.max())\n",
    "    "
   ]
  },
  {
   "cell_type": "code",
   "execution_count": 54,
   "metadata": {
    "collapsed": false,
    "deletable": true,
    "editable": true
   },
   "outputs": [
    {
     "data": {
      "text/plain": [
       "[11838.0, 15685.0, 21358.0, 30735.0, 54349.0]"
      ]
     },
     "execution_count": 54,
     "metadata": {},
     "output_type": "execute_result"
    }
   ],
   "source": [
    "cc.sort()\n",
    "cc"
   ]
  },
  {
   "cell_type": "code",
   "execution_count": 55,
   "metadata": {
    "collapsed": false,
    "deletable": true,
    "editable": true
   },
   "outputs": [
    {
     "data": {
      "text/plain": [
       "                 User Defined                \n",
       " \n",
       "  Lower              Upper              Count\n",
       "=============================================\n",
       "            x[i] <= 11838.000               7\n",
       "11838.000 < x[i] <= 15685.000               6\n",
       "15685.000 < x[i] <= 21358.000               6\n",
       "21358.000 < x[i] <= 30735.000               9\n",
       "30735.000 < x[i] <= 54349.000               4"
      ]
     },
     "execution_count": 55,
     "metadata": {},
     "output_type": "execute_result"
    }
   ],
   "source": [
    "uc = ps.User_Defined(y, bins=cc)\n",
    "uc"
   ]
  },
  {
   "cell_type": "code",
   "execution_count": 56,
   "metadata": {
    "collapsed": false,
    "deletable": true,
    "editable": true
   },
   "outputs": [
    {
     "data": {
      "text/plain": [
       "67539.0"
      ]
     },
     "execution_count": 56,
     "metadata": {},
     "output_type": "execute_result"
    }
   ],
   "source": [
    "uc.adcm"
   ]
  },
  {
   "cell_type": "code",
   "execution_count": 57,
   "metadata": {
    "collapsed": false,
    "deletable": true,
    "editable": true
   },
   "outputs": [
    {
     "data": {
      "text/plain": [
       "49076.0"
      ]
     },
     "execution_count": 57,
     "metadata": {},
     "output_type": "execute_result"
    }
   ],
   "source": [
    "fj.adcm"
   ]
  },
  {
   "cell_type": "code",
   "execution_count": 58,
   "metadata": {
    "collapsed": false,
    "deletable": true,
    "editable": true
   },
   "outputs": [
    {
     "data": {
      "text/plain": [
       "73562.0"
      ]
     },
     "execution_count": 58,
     "metadata": {},
     "output_type": "execute_result"
    }
   ],
   "source": [
    "q5.adcm"
   ]
  },
  {
   "cell_type": "code",
   "execution_count": 59,
   "metadata": {
    "collapsed": true,
    "deletable": true,
    "editable": true
   },
   "outputs": [],
   "source": [
    "from scipy.cluster.hierarchy import dendrogram, linkage"
   ]
  },
  {
   "cell_type": "markdown",
   "metadata": {
    "deletable": true,
    "editable": true
   },
   "source": [
    "Hiearchical clustering using [Ward's method](http://sites.stat.psu.edu/~ajw13/stat505/fa06/19_cluster/09_cluster_wards.html)."
   ]
  },
  {
   "cell_type": "code",
   "execution_count": 60,
   "metadata": {
    "collapsed": true,
    "deletable": true,
    "editable": true
   },
   "outputs": [],
   "source": [
    "Z = linkage(ybs.T, 'ward')"
   ]
  },
  {
   "cell_type": "code",
   "execution_count": 61,
   "metadata": {
    "collapsed": false,
    "deletable": true,
    "editable": true
   },
   "outputs": [
    {
     "data": {
      "text/plain": [
       "array([[  2.        ,  21.        ,   0.        ,   2.        ],\n",
       "       [  3.        ,  18.        ,   0.        ,   2.        ],\n",
       "       [  4.        ,  19.        ,   0.        ,   2.        ],\n",
       "       [  9.        ,  14.        ,   0.        ,   2.        ],\n",
       "       [ 10.        ,  20.        ,   0.        ,   2.        ],\n",
       "       [ 11.        ,  15.        ,   0.        ,   2.        ],\n",
       "       [ 23.        ,  35.        ,   0.        ,   3.        ],\n",
       "       [ 17.        ,  37.        ,   0.        ,   3.        ],\n",
       "       [ 16.        ,  30.        ,   0.        ,   2.        ],\n",
       "       [ 28.        ,  39.        ,   0.        ,   4.        ],\n",
       "       [ 24.        ,  36.        ,   0.        ,   3.        ],\n",
       "       [ 25.        ,  32.        ,   0.        ,   3.        ],\n",
       "       [ 27.        ,  43.        ,   0.        ,   4.        ],\n",
       "       [ 31.        ,  41.        ,   0.        ,   5.        ],\n",
       "       [  0.        ,   6.        ,   1.        ,   2.        ],\n",
       "       [ 12.        ,  26.        ,   1.        ,   2.        ],\n",
       "       [ 22.        ,  33.        ,   1.15470054,   3.        ],\n",
       "       [ 13.        ,  44.        ,   1.26491106,   5.        ],\n",
       "       [  1.        ,  46.        ,   1.29099445,   3.        ],\n",
       "       [ 29.        ,  47.        ,   1.29099445,   3.        ],\n",
       "       [ 38.        ,  40.        ,   1.54919334,   5.        ],\n",
       "       [ 34.        ,  45.        ,   1.69030851,   7.        ],\n",
       "       [  5.        ,  50.        ,   1.95789002,   4.        ],\n",
       "       [ 42.        ,  51.        ,   2.1602469 ,   6.        ],\n",
       "       [  7.        ,  52.        ,   2.36643191,   6.        ],\n",
       "       [  8.        ,  48.        ,   2.94392029,   4.        ],\n",
       "       [ 49.        ,  54.        ,   2.96460603,   9.        ],\n",
       "       [ 55.        ,  56.        ,   4.24264069,  12.        ],\n",
       "       [ 57.        ,  58.        ,   7.87617852,  13.        ],\n",
       "       [ 53.        ,  59.        ,   8.06676402,  19.        ],\n",
       "       [ 60.        ,  61.        ,  22.5083599 ,  32.        ]])"
      ]
     },
     "execution_count": 61,
     "metadata": {},
     "output_type": "execute_result"
    }
   ],
   "source": [
    "Z"
   ]
  },
  {
   "cell_type": "code",
   "execution_count": 62,
   "metadata": {
    "collapsed": false,
    "deletable": true,
    "editable": true
   },
   "outputs": [
    {
     "data": {
      "image/png": "[encoded data removed]",
      "text/plain": [
       "<matplotlib.figure.Figure at 0x7f159b4e2310>"
      ]
     },
     "metadata": {},
     "output_type": "display_data"
    }
   ],
   "source": [
    "plt.figure(figsize=(25, 10))\n",
    "plt.title('Hierarchical Clustering Dendrogram')\n",
    "plt.xlabel('sample index')\n",
    "plt.ylabel('distance')\n",
    "dendrogram(\n",
    "    Z,\n",
    "    leaf_rotation=90.,  # rotates the x axis labels\n",
    "    leaf_font_size=10.,  # font size for the x axis labels\n",
    ")\n",
    "plt.show()\n"
   ]
  },
  {
   "cell_type": "code",
   "execution_count": 63,
   "metadata": {
    "collapsed": false,
    "deletable": true,
    "editable": true
   },
   "outputs": [
    {
     "data": {
      "text/plain": [
       "array([[  2.        ,  21.        ,   0.        ,   2.        ],\n",
       "       [  3.        ,  18.        ,   0.        ,   2.        ],\n",
       "       [  4.        ,  19.        ,   0.        ,   2.        ],\n",
       "       [  9.        ,  14.        ,   0.        ,   2.        ],\n",
       "       [ 10.        ,  20.        ,   0.        ,   2.        ],\n",
       "       [ 11.        ,  15.        ,   0.        ,   2.        ],\n",
       "       [ 23.        ,  35.        ,   0.        ,   3.        ],\n",
       "       [ 17.        ,  37.        ,   0.        ,   3.        ],\n",
       "       [ 16.        ,  30.        ,   0.        ,   2.        ],\n",
       "       [ 28.        ,  39.        ,   0.        ,   4.        ],\n",
       "       [ 24.        ,  36.        ,   0.        ,   3.        ],\n",
       "       [ 25.        ,  32.        ,   0.        ,   3.        ],\n",
       "       [ 27.        ,  43.        ,   0.        ,   4.        ],\n",
       "       [ 31.        ,  41.        ,   0.        ,   5.        ],\n",
       "       [  0.        ,   6.        ,   1.        ,   2.        ],\n",
       "       [ 12.        ,  26.        ,   1.        ,   2.        ],\n",
       "       [ 22.        ,  33.        ,   1.15470054,   3.        ],\n",
       "       [ 13.        ,  44.        ,   1.26491106,   5.        ],\n",
       "       [  1.        ,  46.        ,   1.29099445,   3.        ],\n",
       "       [ 29.        ,  47.        ,   1.29099445,   3.        ],\n",
       "       [ 38.        ,  40.        ,   1.54919334,   5.        ],\n",
       "       [ 34.        ,  45.        ,   1.69030851,   7.        ],\n",
       "       [  5.        ,  50.        ,   1.95789002,   4.        ],\n",
       "       [ 42.        ,  51.        ,   2.1602469 ,   6.        ],\n",
       "       [  7.        ,  52.        ,   2.36643191,   6.        ],\n",
       "       [  8.        ,  48.        ,   2.94392029,   4.        ],\n",
       "       [ 49.        ,  54.        ,   2.96460603,   9.        ],\n",
       "       [ 55.        ,  56.        ,   4.24264069,  12.        ],\n",
       "       [ 57.        ,  58.        ,   7.87617852,  13.        ],\n",
       "       [ 53.        ,  59.        ,   8.06676402,  19.        ],\n",
       "       [ 60.        ,  61.        ,  22.5083599 ,  32.        ]])"
      ]
     },
     "execution_count": 63,
     "metadata": {},
     "output_type": "execute_result"
    }
   ],
   "source": [
    "Z"
   ]
  },
  {
   "cell_type": "code",
   "execution_count": 64,
   "metadata": {
    "collapsed": false,
    "deletable": true,
    "editable": true
   },
   "outputs": [
    {
     "data": {
      "text/plain": [
       "array([[3, 2, 3, 3, 1, 2, 3, 1],\n",
       "       [3, 2, 3, 3, 1, 2, 3, 1]])"
      ]
     },
     "execution_count": 64,
     "metadata": {},
     "output_type": "execute_result"
    }
   ],
   "source": [
    "ybs.T[[2,21]]"
   ]
  },
  {
   "cell_type": "code",
   "execution_count": 65,
   "metadata": {
    "collapsed": false,
    "deletable": true,
    "editable": true
   },
   "outputs": [
    {
     "data": {
      "text/plain": [
       "array([[ 26103.],\n",
       "       [ 26149.]])"
      ]
     },
     "execution_count": 65,
     "metadata": {},
     "output_type": "execute_result"
    }
   ],
   "source": [
    "y[[2, 21]]"
   ]
  },
  {
   "cell_type": "code",
   "execution_count": 66,
   "metadata": {
    "collapsed": false,
    "deletable": true,
    "editable": true
   },
   "outputs": [
    {
     "data": {
      "text/plain": [
       "array([[4, 3, 4, 4, 3, 3, 4, 2],\n",
       "       [4, 3, 4, 4, 3, 3, 4, 2]])"
      ]
     },
     "execution_count": 66,
     "metadata": {},
     "output_type": "execute_result"
    }
   ],
   "source": [
    "ybs.T[[3, 18]]"
   ]
  },
  {
   "cell_type": "code",
   "execution_count": 67,
   "metadata": {
    "collapsed": false,
    "deletable": true,
    "editable": true
   },
   "outputs": [
    {
     "data": {
      "text/plain": [
       "array([[ 36163.],\n",
       "       [ 38672.]])"
      ]
     },
     "execution_count": 67,
     "metadata": {},
     "output_type": "execute_result"
    }
   ],
   "source": [
    "y[[3, 18]]"
   ]
  },
  {
   "cell_type": "markdown",
   "metadata": {
    "deletable": true,
    "editable": true
   },
   "source": [
    "Looking at our z matrix, the first time we see an index (idx) larger than len(y) is in step 7 (idx=6 since Python is 0 offset).\n",
    "\n"
   ]
  },
  {
   "cell_type": "code",
   "execution_count": 68,
   "metadata": {
    "collapsed": false,
    "deletable": true,
    "editable": true
   },
   "outputs": [
    {
     "data": {
      "text/plain": [
       "array([ 23.,  35.,   0.,   3.])"
      ]
     },
     "execution_count": 68,
     "metadata": {},
     "output_type": "execute_result"
    }
   ],
   "source": [
    "Z[6]"
   ]
  },
  {
   "cell_type": "markdown",
   "metadata": {
    "deletable": true,
    "editable": true
   },
   "source": [
    "Here we have singleton 23 being merged with cluster index 35. But we only have n=32 states. The question is what cluster is 23 being joined to in this step?\n",
    "\n",
    "All indices idx > len(X) indicate point to a cluster formered at step idx - len(x).\n",
    "\n",
    "So:\n"
   ]
  },
  {
   "cell_type": "code",
   "execution_count": 69,
   "metadata": {
    "collapsed": false,
    "deletable": true,
    "editable": true
   },
   "outputs": [
    {
     "data": {
      "text/plain": [
       "array([  9.,  14.,   0.,   2.])"
      ]
     },
     "execution_count": 69,
     "metadata": {},
     "output_type": "execute_result"
    }
   ],
   "source": [
    "Z[35 - 32]"
   ]
  },
  {
   "cell_type": "markdown",
   "metadata": {
    "deletable": true,
    "editable": true
   },
   "source": [
    "means that in step 6, the algorithm joins singleton 23 to the cluster  with id 35 composed of (9, 14). Cluster 35 formed in step idx-len(y)=  35-2 = 3.\n",
    "\n",
    "The new cluster has size 3 and is defined as (9, 14, 23)."
   ]
  },
  {
   "cell_type": "code",
   "execution_count": 70,
   "metadata": {
    "collapsed": false,
    "deletable": true,
    "editable": true
   },
   "outputs": [
    {
     "data": {
      "image/png": "[encoded data removed]",
      "text/plain": [
       "<matplotlib.figure.Figure at 0x7f159b2311d0>"
      ]
     },
     "metadata": {},
     "output_type": "display_data"
    }
   ],
   "source": [
    "plt.title('Hierarchical Clustering Dendrogram (truncated)')\n",
    "plt.xlabel('sample index or (cluster size)')\n",
    "plt.ylabel('distance')\n",
    "dendrogram(\n",
    "    Z,\n",
    "    truncate_mode='lastp',  # show only the last p merged clusters\n",
    "    p=11,  # show only the last p merged clusters\n",
    "    leaf_rotation=90.,\n",
    "    leaf_font_size=20.,\n",
    "    show_contracted=True,  # to get a distribution impression in truncated branches\n",
    ")\n",
    "plt.show()"
   ]
  },
  {
   "cell_type": "code",
   "execution_count": 71,
   "metadata": {
    "collapsed": false,
    "deletable": true,
    "editable": true
   },
   "outputs": [
    {
     "data": {
      "image/png": "[encoded data removed]",
      "text/plain": [
       "<matplotlib.figure.Figure at 0x7f159b4f4ed0>"
      ]
     },
     "metadata": {},
     "output_type": "display_data"
    }
   ],
   "source": [
    "plt.title('Hierarchical Clustering Dendrogram (truncated)')\n",
    "plt.xlabel('sample index or (cluster size)')\n",
    "plt.ylabel('distance')\n",
    "dendrogram(\n",
    "    Z,\n",
    "    truncate_mode='lastp',  # show only the last p merged clusters\n",
    "    p=5,  # show only the last p merged clusters\n",
    "    leaf_rotation=90.,\n",
    "    leaf_font_size=12.,\n",
    "    show_contracted=True,  # to get a distribution impression in truncated branches\n",
    ")\n",
    "plt.show()"
   ]
  },
  {
   "cell_type": "code",
   "execution_count": 72,
   "metadata": {
    "collapsed": false,
    "deletable": true,
    "editable": true
   },
   "outputs": [
    {
     "data": {
      "text/plain": [
       "array([2, 2, 2, 1, 3, 2, 2, 5, 1, 5, 4, 3, 4, 2, 5, 3, 5, 3, 1, 3, 4, 2, 1,\n",
       "       5, 4, 2, 4, 2, 3, 4, 5, 3], dtype=int32)"
      ]
     },
     "execution_count": 72,
     "metadata": {},
     "output_type": "execute_result"
    }
   ],
   "source": [
    "from scipy.cluster.hierarchy import fcluster\n",
    "fcluster(Z, 5, criterion='maxclust')"
   ]
  },
  {
   "cell_type": "code",
   "execution_count": 73,
   "metadata": {
    "collapsed": false,
    "deletable": true,
    "editable": true
   },
   "outputs": [
    {
     "data": {
      "text/plain": [
       "array([1, 1, 1, 1, 2, 1, 1, 2, 1, 2, 2, 2, 2, 1, 2, 2, 2, 2, 1, 2, 2, 1, 1,\n",
       "       2, 2, 1, 2, 1, 2, 2, 2, 2], dtype=int32)"
      ]
     },
     "execution_count": 73,
     "metadata": {},
     "output_type": "execute_result"
    }
   ],
   "source": [
    "from scipy.cluster.hierarchy import fcluster\n",
    "fcluster(Z, 2, criterion='maxclust')"
   ]
  },
  {
   "cell_type": "code",
   "execution_count": 74,
   "metadata": {
    "collapsed": false,
    "deletable": true,
    "editable": true
   },
   "outputs": [
    {
     "data": {
      "text/plain": [
       "array([4, 4, 3, 1, 5, 4, 4, 7, 2, 7, 6, 5, 6, 3, 7, 5, 7, 5, 1, 5, 6, 3, 1,\n",
       "       7, 6, 3, 6, 3, 5, 6, 7, 5], dtype=int32)"
      ]
     },
     "execution_count": 74,
     "metadata": {},
     "output_type": "execute_result"
    }
   ],
   "source": [
    "from scipy.cluster.hierarchy import fcluster\n",
    "fcluster(Z, 7, criterion='maxclust')"
   ]
  },
  {
   "cell_type": "code",
   "execution_count": null,
   "metadata": {
    "collapsed": true,
    "deletable": true,
    "editable": true
   },
   "outputs": [],
   "source": []
  }
 ],
 "metadata": {
  "anaconda-cloud": {},
  "kernelspec": {
   "display_name": "Python 2",
   "language": "python",
   "name": "python2"
  },
  "language_info": {
   "codemirror_mode": {
    "name": "ipython",
    "version": 2
   },
   "file_extension": ".py",
   "mimetype": "text/x-python",
   "name": "python",
   "nbconvert_exporter": "python",
   "pygments_lexer": "ipython2",
   "version": "2.7.13"
  }
 },
 "nbformat": 4,
 "nbformat_minor": 0
}
