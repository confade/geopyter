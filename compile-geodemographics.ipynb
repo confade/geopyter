{
 "cells": [
  {
   "cell_type": "code",
   "execution_count": 11,
   "metadata": {},
   "outputs": [],
   "source": [
    "from geopyter import core"
   ]
  },
  {
   "cell_type": "code",
   "execution_count": 12,
   "metadata": {},
   "outputs": [
    {
     "name": "stdout",
     "output_type": "stream",
     "text": [
      "Instantiating: sessions/geodemographics.ipynb\n",
      "Instantiating: data/remote.ipynb\n",
      "Unable to determine version for: zipfile\n",
      "Currently we check <module>.__version__ and <module>.version\n",
      "Unable to determine version for: io\n",
      "Currently we check <module>.__version__ and <module>.version\n",
      "Unable to determine version for: os\n",
      "Currently we check <module>.__version__ and <module>.version\n"
     ]
    }
   ],
   "source": [
    "nb = core.NoteBook(\"sessions/geodemographics.ipynb\")"
   ]
  },
  {
   "cell_type": "code",
   "execution_count": 13,
   "metadata": {},
   "outputs": [
    {
     "name": "stdout",
     "output_type": "stream",
     "text": [
      "Importing all of Processing Remote Geodata\n",
      "Composing content for sessions/geodemographics.ipynb with 78 cells of new content.\n"
     ]
    }
   ],
   "source": [
    "nb.compile()"
   ]
  },
  {
   "cell_type": "code",
   "execution_count": 14,
   "metadata": {},
   "outputs": [],
   "source": [
    "nb.write(fn='builds/geodemographics.ipynb')"
   ]
  },
  {
   "cell_type": "code",
   "execution_count": null,
   "metadata": {},
   "outputs": [],
   "source": []
  }
 ],
 "metadata": {
  "anaconda-cloud": {},
  "kernelspec": {
   "display_name": "Python 3",
   "language": "python",
   "name": "python3"
  },
  "language_info": {
   "codemirror_mode": {
    "name": "ipython",
    "version": 3
   },
   "file_extension": ".py",
   "mimetype": "text/x-python",
   "name": "python",
   "nbconvert_exporter": "python",
   "pygments_lexer": "ipython3",
   "version": "3.7.6"
  }
 },
 "nbformat": 4,
 "nbformat_minor": 2
}
