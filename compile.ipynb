{
 "cells": [
  {
   "cell_type": "code",
   "execution_count": 1,
   "metadata": {},
   "outputs": [],
   "source": [
    "from geopyter import core"
   ]
  },
  {
   "cell_type": "code",
   "execution_count": 2,
   "metadata": {},
   "outputs": [
    {
     "name": "stdout",
     "output_type": "stream",
     "text": [
      "Instantiating: sessions/Getting_Oriented.ipynb\n",
      "Instantiating: https://raw.githubusercontent.com/kingsgeocomp/code-camp/master/notebook-01.ipynb\n",
      "Instantiating: foundations/Why_Code.ipynb\n",
      "Instantiating: foundations/Learning_a_Language.ipynb\n",
      "Instantiating: foundations/Programming_in_Python.ipynb\n",
      "Instantiating: foundations/Thinking_Like_a_Computer.ipynb\n"
     ]
    }
   ],
   "source": [
    "nb = core.NoteBook(\"sessions/Getting_Oriented.ipynb\")"
   ]
  },
  {
   "cell_type": "code",
   "execution_count": 3,
   "metadata": {},
   "outputs": [
    {
     "name": "stdout",
     "output_type": "stream",
     "text": [
      "No contributors found for: Notebook-1: Getting Started\n",
      "Getting section from https://raw.githubusercontent.com/kingsgeocomp/code-camp/master/notebook-01.ipynb: h2. This is a Jupyter Notebook\n",
      "Retrieving selection: h2. This is a Jupyter Notebook.\n",
      "Importing all of Why Learn to Code?\n",
      "Importing all of Learning a (New) Language\n",
      "Importing all of Programming in Python\n",
      "Importing all of Thinking Like a Computer\n",
      "Composing content for sessions/Getting_Oriented.ipynb with 35 cells of new content.\n",
      "No contributors found for: Notebook-1: Getting Started\n"
     ]
    }
   ],
   "source": [
    "nb.compile()"
   ]
  },
  {
   "cell_type": "code",
   "execution_count": 4,
   "metadata": {},
   "outputs": [
    {
     "name": "stdout",
     "output_type": "stream",
     "text": [
      "No contributors found for: Notebook-1: Getting Started\n"
     ]
    }
   ],
   "source": [
    "nb.write(fn='builds/Session 1 - Getting Oriented.ipynb')"
   ]
  },
  {
   "cell_type": "code",
   "execution_count": 5,
   "metadata": {},
   "outputs": [
    {
     "name": "stdout",
     "output_type": "stream",
     "text": [
      "Instantiating: sessions/visualization.ipynb\n",
      "Instantiating: foundations/Why_Code.ipynb\n",
      "Instantiating: visualization/choropleth_classification.ipynb\n"
     ]
    },
    {
     "name": "stderr",
     "output_type": "stream",
     "text": [
      "/opt/conda/lib/python3.7/site-packages/pysal/explore/segregation/network/network.py:16: UserWarning: You need pandana and urbanaccess to work with segregation's network module\n",
      "You can install them with  `pip install urbanaccess pandana` or `conda install -c udst pandana urbanaccess`\n",
      "  \"You need pandana and urbanaccess to work with segregation's network module\\n\"\n"
     ]
    }
   ],
   "source": [
    "nb = core.NoteBook(\"sessions/visualization.ipynb\")"
   ]
  },
  {
   "cell_type": "code",
   "execution_count": 6,
   "metadata": {},
   "outputs": [
    {
     "name": "stdout",
     "output_type": "stream",
     "text": [
      "Importing all of Why Learn to Code?\n",
      "Importing all of Classification for Choropleth Mapping\n",
      "Composing content for sessions/visualization.ipynb with 110 cells of new content.\n"
     ]
    }
   ],
   "source": [
    "nb.compile()"
   ]
  },
  {
   "cell_type": "code",
   "execution_count": 7,
   "metadata": {},
   "outputs": [],
   "source": [
    "nb.write(fn='builds/Session 1 -Visualization.ipynb')"
   ]
  },
  {
   "cell_type": "code",
   "execution_count": 8,
   "metadata": {},
   "outputs": [],
   "source": [
    "from geopyter.core import read_nb\n",
    "import geopyter"
   ]
  },
  {
   "cell_type": "code",
   "execution_count": null,
   "metadata": {},
   "outputs": [],
   "source": [
    "nb = geopyter.core.NoteBook('sessions/visualization.ipynb')"
   ]
  },
  {
   "cell_type": "code",
   "execution_count": null,
   "metadata": {},
   "outputs": [],
   "source": [
    "nb.nb_path"
   ]
  },
  {
   "cell_type": "code",
   "execution_count": null,
   "metadata": {},
   "outputs": [],
   "source": [
    "dir(nb)"
   ]
  },
  {
   "cell_type": "code",
   "execution_count": null,
   "metadata": {},
   "outputs": [],
   "source": [
    "nb.get_metadata()"
   ]
  },
  {
   "cell_type": "code",
   "execution_count": null,
   "metadata": {
    "scrolled": true
   },
   "outputs": [],
   "source": [
    "nb.compose_metadata()"
   ]
  },
  {
   "cell_type": "code",
   "execution_count": null,
   "metadata": {},
   "outputs": [],
   "source": [
    "nb.compile()"
   ]
  },
  {
   "cell_type": "code",
   "execution_count": null,
   "metadata": {},
   "outputs": [],
   "source": [
    "nb.compiled.metadata"
   ]
  },
  {
   "cell_type": "code",
   "execution_count": null,
   "metadata": {},
   "outputs": [],
   "source": [
    "nb.cells"
   ]
  },
  {
   "cell_type": "code",
   "execution_count": null,
   "metadata": {},
   "outputs": [],
   "source": [
    "nb.compiled.metadata"
   ]
  },
  {
   "cell_type": "code",
   "execution_count": null,
   "metadata": {},
   "outputs": [],
   "source": [
    "lib"
   ]
  }
 ],
 "metadata": {
  "anaconda-cloud": {},
  "kernelspec": {
   "display_name": "Python 3",
   "language": "python",
   "name": "python3"
  },
  "language_info": {
   "codemirror_mode": {
    "name": "ipython",
    "version": 3
   },
   "file_extension": ".py",
   "mimetype": "text/x-python",
   "name": "python",
   "nbconvert_exporter": "python",
   "pygments_lexer": "ipython3",
   "version": "3.7.3"
  }
 },
 "nbformat": 4,
 "nbformat_minor": 2
}
