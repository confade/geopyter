{
 "cells": [
  {
   "cell_type": "markdown",
   "metadata": {},
   "source": [
    "# Session 1: Getting Started\n",
    "- Contributors: Jon Reades (https://github.com/jreades)"
   ]
  },
  {
   "cell_type": "markdown",
   "metadata": {},
   "source": [
    "@include {\n",
    "    src = https://raw.githubusercontent.com/kingsgeocomp/code-camp/master/notebook-01.ipynb\n",
    "    select = h2. This is a Jupyter Notebook\n",
    "}"
   ]
  },
  {
   "cell_type": "markdown",
   "metadata": {},
   "source": [
    "@include {\n",
    "    src = foundations/Why_Code.ipynb\n",
    "}"
   ]
  },
  {
   "cell_type": "markdown",
   "metadata": {},
   "source": [
    "@include {\n",
    "    src = foundations/Learning_a_Language.ipynb\n",
    "}"
   ]
  },
  {
   "cell_type": "markdown",
   "metadata": {},
   "source": [
    "@include {\n",
    "    src = foundations/Programming_in_Python.ipynb\n",
    "}"
   ]
  },
  {
   "cell_type": "markdown",
   "metadata": {},
   "source": [
    "@include {\n",
    "    src = foundations/Thinking_Like_a_Computer.ipynb\n",
    "}"
   ]
  },
  {
   "cell_type": "markdown",
   "metadata": {},
   "source": [
    "## Further Reading:\n",
    "\n",
    "- A **must** read: [The Hard Way is Easier](http://learnpythonthehardway.org/book/intro.html)\n",
    "- Two easy and accessible videos to start wrapping your head around programming (although they are not Python-centric) [1](https://www.youtube.com/watch?v=qUVWM2Q4vAU) and [2](https://www.youtube.com/watch?v=AImF__7FyzM)"
   ]
  }
 ],
 "metadata": {
  "anaconda-cloud": {},
  "kernelspec": {
   "display_name": "Python 3",
   "language": "python",
   "name": "python3"
  },
  "language_info": {
   "codemirror_mode": {
    "name": "ipython",
    "version": 3
   },
   "file_extension": ".py",
   "mimetype": "text/x-python",
   "name": "python",
   "nbconvert_exporter": "python",
   "pygments_lexer": "ipython3",
   "version": "3.6.5"
  }
 },
 "nbformat": 4,
 "nbformat_minor": 2
}
